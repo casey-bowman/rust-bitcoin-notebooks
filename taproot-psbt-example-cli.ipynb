{
 "cells": [
  {
   "cell_type": "code",
   "execution_count": 1,
   "id": "6e50a12d-99fd-4726-bdc4-3cbd59527298",
   "metadata": {
    "editable": true,
    "is_executing": true,
    "slideshow": {
     "slide_type": ""
    },
    "tags": []
   },
   "outputs": [],
   "source": [
    "from IPython import get_ipython\n",
    "ipython = get_ipython()"
   ]
  },
  {
   "cell_type": "markdown",
   "id": "47d3c037-a315-4ac3-a292-7048982d6fe4",
   "metadata": {},
   "source": [
    "Start Bitcoin Core using Nigiri"
   ]
  },
  {
   "cell_type": "code",
   "execution_count": 2,
   "id": "10165879-2168-4b4b-abd9-1a687d8a4fdf",
   "metadata": {},
   "outputs": [
    {
     "name": "stdout",
     "output_type": "stream",
     "text": [
      "\u001B[1A\u001B[1B\u001B[0G\u001B[?25l[+] Running 4/0\n",
      " \u001B[32m✔\u001B[0m Container bitcoin     \u001B[32mCreated\u001B[0m                                           \u001B[34m0.0s \u001B[0m\n",
      " \u001B[32m✔\u001B[0m Container electrs     \u001B[32mCreated\u001B[0m                                           \u001B[34m0.0s \u001B[0m\n",
      " \u001B[32m✔\u001B[0m Container chopsticks  \u001B[32mCreated\u001B[0m                                           \u001B[34m0.0s \u001B[0m\n",
      " \u001B[32m✔\u001B[0m Container esplora     \u001B[32mCreated\u001B[0m                                           \u001B[34m0.0s \u001B[0m\n",
      "\u001B[?25h\u001B[1A\u001B[1A\u001B[1A\u001B[1A\u001B[1A\u001B[0G\u001B[?25l\u001B[34m[+] Running 4/4\u001B[0m\n",
      " \u001B[32m✔\u001B[0m Container bitcoin     \u001B[32mCreated\u001B[0m                                           \u001B[34m0.0s \u001B[0m\n",
      " \u001B[32m✔\u001B[0m Container electrs     \u001B[32mCreated\u001B[0m                                           \u001B[34m0.0s \u001B[0m\n",
      " \u001B[32m✔\u001B[0m Container chopsticks  \u001B[32mCreated\u001B[0m                                           \u001B[34m0.0s \u001B[0m\n",
      " \u001B[32m✔\u001B[0m Container esplora     \u001B[32mCreated\u001B[0m                                           \u001B[34m0.0s \u001B[0m\n",
      "\u001B[?25h\u001B[1A\u001B[1A\u001B[1A\u001B[1A\u001B[1A\u001B[0G\u001B[?25l\u001B[34m[+] Running 4/4\u001B[0m\n",
      " \u001B[32m✔\u001B[0m Container bitcoin     \u001B[32mCreated\u001B[0m                                           \u001B[34m0.0s \u001B[0m\n",
      " \u001B[32m✔\u001B[0m Container electrs     \u001B[32mCreated\u001B[0m                                           \u001B[34m0.0s \u001B[0m\n",
      " \u001B[32m✔\u001B[0m Container chopsticks  \u001B[32mCreated\u001B[0m                                           \u001B[34m0.0s \u001B[0m\n",
      " \u001B[32m✔\u001B[0m Container esplora     \u001B[32mCreated\u001B[0m                                           \u001B[34m0.0s \u001B[0m\n",
      "\u001B[?25h\u001B[1A\u001B[1A\u001B[1A\u001B[1A\u001B[1A\u001B[0G\u001B[?25l\u001B[34m[+] Running 4/4\u001B[0m\n",
      " \u001B[32m✔\u001B[0m Container bitcoin     \u001B[32mCreated\u001B[0m                                           \u001B[34m0.0s \u001B[0m\n",
      " \u001B[32m✔\u001B[0m Container electrs     \u001B[32mCreated\u001B[0m                                           \u001B[34m0.0s \u001B[0m\n",
      " \u001B[32m✔\u001B[0m Container chopsticks  \u001B[32mCreated\u001B[0m                                           \u001B[34m0.0s \u001B[0m\n",
      " \u001B[32m✔\u001B[0m Container esplora     \u001B[32mCreated\u001B[0m                                           \u001B[34m0.0s \u001B[0m\n",
      "\u001B[?25h\u001B[1A\u001B[1A\u001B[1A\u001B[1A\u001B[1A\u001B[0G\u001B[?25l\u001B[34m[+] Running 4/4\u001B[0m\n",
      " \u001B[32m✔\u001B[0m Container bitcoin     \u001B[32mCreated\u001B[0m                                           \u001B[34m0.0s \u001B[0m\n",
      " \u001B[32m✔\u001B[0m Container electrs     \u001B[32mCreated\u001B[0m                                           \u001B[34m0.0s \u001B[0m\n",
      " \u001B[32m✔\u001B[0m Container chopsticks  \u001B[32mCreated\u001B[0m                                           \u001B[34m0.0s \u001B[0m\n",
      " \u001B[32m✔\u001B[0m Container esplora     \u001B[32mCreated\u001B[0m                                           \u001B[34m0.0s \u001B[0m\n",
      "\u001B[?25h\u001B[1A\u001B[1A\u001B[1A\u001B[1A\u001B[1A\u001B[0G\u001B[?25l\u001B[34m[+] Running 4/4\u001B[0m\n",
      " \u001B[32m✔\u001B[0m Container bitcoin     \u001B[32mCreated\u001B[0m                                           \u001B[34m0.0s \u001B[0m\n",
      " \u001B[32m✔\u001B[0m Container electrs     \u001B[32mCreated\u001B[0m                                           \u001B[34m0.0s \u001B[0m\n",
      " \u001B[32m✔\u001B[0m Container chopsticks  \u001B[32mCreated\u001B[0m                                           \u001B[34m0.0s \u001B[0m\n",
      " \u001B[32m✔\u001B[0m Container esplora     \u001B[32mCreated\u001B[0m                                           \u001B[34m0.0s \u001B[0m\n",
      "\u001B[?25h\u001B[1A\u001B[1A\u001B[1A\u001B[1A\u001B[1A\u001B[0G\u001B[?25l\u001B[34m[+] Running 4/4\u001B[0m\n",
      " \u001B[32m✔\u001B[0m Container bitcoin     \u001B[32mCreated\u001B[0m                                           \u001B[34m0.0s \u001B[0m\n",
      " \u001B[32m✔\u001B[0m Container electrs     \u001B[32mCreated\u001B[0m                                           \u001B[34m0.0s \u001B[0m\n",
      " \u001B[32m✔\u001B[0m Container chopsticks  \u001B[32mCreated\u001B[0m                                           \u001B[34m0.0s \u001B[0m\n",
      " \u001B[32m✔\u001B[0m Container esplora     \u001B[32mCreated\u001B[0m                                           \u001B[34m0.0s \u001B[0m\n",
      "\u001B[?25h\u001B[1A\u001B[1A\u001B[1A\u001B[1A\u001B[1A\u001B[0G\u001B[?25l\u001B[34m[+] Running 4/4\u001B[0m\n",
      " \u001B[32m✔\u001B[0m Container bitcoin     \u001B[32mCreated\u001B[0m                                           \u001B[34m0.0s \u001B[0m\n",
      " \u001B[32m✔\u001B[0m Container electrs     \u001B[32mCreated\u001B[0m                                           \u001B[34m0.0s \u001B[0m\n",
      " \u001B[32m✔\u001B[0m Container chopsticks  \u001B[32mCreated\u001B[0m                                           \u001B[34m0.0s \u001B[0m\n",
      " \u001B[32m✔\u001B[0m Container esplora     \u001B[32mCreated\u001B[0m                                           \u001B[34m0.0s \u001B[0m\n",
      "\u001B[?25h\u001B[1A\u001B[1A\u001B[1A\u001B[1A\u001B[1A\u001B[0G\u001B[?25l\u001B[34m[+] Running 4/4\u001B[0m\n",
      " \u001B[32m✔\u001B[0m Container bitcoin     \u001B[32mCreated\u001B[0m                                           \u001B[34m0.0s \u001B[0m\n",
      " \u001B[32m✔\u001B[0m Container electrs     \u001B[32mCreated\u001B[0m                                           \u001B[34m0.0s \u001B[0m\n",
      " \u001B[32m✔\u001B[0m Container chopsticks  \u001B[32mCreated\u001B[0m                                           \u001B[34m0.0s \u001B[0m\n",
      " \u001B[32m✔\u001B[0m Container esplora     \u001B[32mCreated\u001B[0m                                           \u001B[34m0.0s \u001B[0m\n",
      "\u001B[?25h\u001B[1A\u001B[1A\u001B[1A\u001B[1A\u001B[1A\u001B[0G\u001B[?25l\u001B[34m[+] Running 4/4\u001B[0m\n",
      " \u001B[32m✔\u001B[0m Container bitcoin     \u001B[32mCreated\u001B[0m                                           \u001B[34m0.0s \u001B[0m\n",
      " \u001B[32m✔\u001B[0m Container electrs     \u001B[32mCreated\u001B[0m                                           \u001B[34m0.0s \u001B[0m\n",
      " \u001B[32m✔\u001B[0m Container chopsticks  \u001B[32mCreated\u001B[0m                                           \u001B[34m0.0s \u001B[0m\n",
      " \u001B[32m✔\u001B[0m Container esplora     \u001B[32mCreated\u001B[0m                                           \u001B[34m0.0s \u001B[0m\n",
      "\u001B[?25h\u001B[1A\u001B[1A\u001B[1A\u001B[1A\u001B[1A\u001B[0G\u001B[?25l\u001B[34m[+] Running 4/4\u001B[0m\n",
      " \u001B[32m✔\u001B[0m Container bitcoin     \u001B[32mCreated\u001B[0m                                           \u001B[34m0.0s \u001B[0m\n",
      " \u001B[32m✔\u001B[0m Container electrs     \u001B[32mCreated\u001B[0m                                           \u001B[34m0.0s \u001B[0m\n",
      " \u001B[32m✔\u001B[0m Container chopsticks  \u001B[32mCreated\u001B[0m                                           \u001B[34m0.0s \u001B[0m\n",
      " \u001B[32m✔\u001B[0m Container esplora     \u001B[32mCreated\u001B[0m                                           \u001B[34m0.0s \u001B[0m\n",
      "\u001B[?25h\u001B[1A\u001B[1A\u001B[1A\u001B[1A\u001B[1A\u001B[0G\u001B[?25l\u001B[34m[+] Running 4/4\u001B[0m\n",
      " \u001B[32m✔\u001B[0m Container bitcoin     \u001B[32mCreated\u001B[0m                                           \u001B[34m0.0s \u001B[0m\n",
      " \u001B[32m✔\u001B[0m Container electrs     \u001B[32mCreated\u001B[0m                                           \u001B[34m0.0s \u001B[0m\n",
      " \u001B[32m✔\u001B[0m Container chopsticks  \u001B[32mCreated\u001B[0m                                           \u001B[34m0.0s \u001B[0m\n",
      " \u001B[32m✔\u001B[0m Container esplora     \u001B[32mCreated\u001B[0m                                           \u001B[34m0.0s \u001B[0m\n",
      "\u001B[?25h\u001B[1A\u001B[1A\u001B[1A\u001B[1A\u001B[1A\u001B[0G\u001B[?25l\u001B[34m[+] Running 4/4\u001B[0m\n",
      " \u001B[32m✔\u001B[0m Container bitcoin     \u001B[32mStarted\u001B[0m                                           \u001B[34m0.0s \u001B[0m\n",
      " \u001B[32m✔\u001B[0m Container electrs     \u001B[32mCreated\u001B[0m                                           \u001B[34m0.0s \u001B[0m\n",
      " \u001B[32m✔\u001B[0m Container chopsticks  \u001B[32mCreated\u001B[0m                                           \u001B[34m0.0s \u001B[0m\n",
      " \u001B[32m✔\u001B[0m Container esplora     \u001B[32mCreated\u001B[0m                                           \u001B[34m0.0s \u001B[0m\n",
      "\u001B[?25h\u001B[1A\u001B[1A\u001B[1A\u001B[1A\u001B[1A\u001B[0G\u001B[?25l\u001B[34m[+] Running 4/4\u001B[0m\n",
      " \u001B[32m✔\u001B[0m Container bitcoin     \u001B[32mStarted\u001B[0m                                           \u001B[34m0.0s \u001B[0m\n",
      " \u001B[32m✔\u001B[0m Container electrs     \u001B[32mCreated\u001B[0m                                           \u001B[34m0.0s \u001B[0m\n",
      " \u001B[32m✔\u001B[0m Container chopsticks  \u001B[32mCreated\u001B[0m                                           \u001B[34m0.0s \u001B[0m\n",
      " \u001B[32m✔\u001B[0m Container esplora     \u001B[32mCreated\u001B[0m                                           \u001B[34m0.0s \u001B[0m\n",
      "\u001B[?25h\u001B[1A\u001B[1A\u001B[1A\u001B[1A\u001B[1A\u001B[0G\u001B[?25l\u001B[34m[+] Running 4/4\u001B[0m\n",
      " \u001B[32m✔\u001B[0m Container bitcoin     \u001B[32mStarted\u001B[0m                                           \u001B[34m0.0s \u001B[0m\n",
      " \u001B[32m✔\u001B[0m Container electrs     \u001B[32mCreated\u001B[0m                                           \u001B[34m0.0s \u001B[0m\n",
      " \u001B[32m✔\u001B[0m Container chopsticks  \u001B[32mCreated\u001B[0m                                           \u001B[34m0.0s \u001B[0m\n",
      " \u001B[32m✔\u001B[0m Container esplora     \u001B[32mCreated\u001B[0m                                           \u001B[34m0.0s \u001B[0m\n",
      "\u001B[?25h\u001B[1A\u001B[1A\u001B[1A\u001B[1A\u001B[1A\u001B[0G\u001B[?25l\u001B[34m[+] Running 4/4\u001B[0m\n",
      " \u001B[32m✔\u001B[0m Container bitcoin     \u001B[32mStarted\u001B[0m                                           \u001B[34m0.0s \u001B[0m\n",
      " \u001B[32m✔\u001B[0m Container electrs     \u001B[32mCreated\u001B[0m                                           \u001B[34m0.0s \u001B[0m\n",
      " \u001B[32m✔\u001B[0m Container chopsticks  \u001B[32mCreated\u001B[0m                                           \u001B[34m0.0s \u001B[0m\n",
      " \u001B[32m✔\u001B[0m Container esplora     \u001B[32mCreated\u001B[0m                                           \u001B[34m0.0s \u001B[0m\n",
      "\u001B[?25h\u001B[1A\u001B[1A\u001B[1A\u001B[1A\u001B[1A\u001B[0G\u001B[?25l\u001B[34m[+] Running 4/4\u001B[0m\n",
      " \u001B[32m✔\u001B[0m Container bitcoin     \u001B[32mStarted\u001B[0m                                           \u001B[34m0.0s \u001B[0m\n",
      " \u001B[32m✔\u001B[0m Container electrs     \u001B[32mStarted\u001B[0m                                           \u001B[34m0.0s \u001B[0m\n",
      " \u001B[32m✔\u001B[0m Container chopsticks  \u001B[32mCreated\u001B[0m                                           \u001B[34m0.0s \u001B[0m\n",
      " \u001B[32m✔\u001B[0m Container esplora     \u001B[32mCreated\u001B[0m                                           \u001B[34m0.0s \u001B[0m\n",
      "\u001B[?25h\u001B[1A\u001B[1A\u001B[1A\u001B[1A\u001B[1A\u001B[0G\u001B[?25l\u001B[34m[+] Running 4/4\u001B[0m\n",
      " \u001B[32m✔\u001B[0m Container bitcoin     \u001B[32mStarted\u001B[0m                                           \u001B[34m0.0s \u001B[0m\n",
      " \u001B[32m✔\u001B[0m Container electrs     \u001B[32mStarted\u001B[0m                                           \u001B[34m0.0s \u001B[0m\n",
      " \u001B[32m✔\u001B[0m Container chopsticks  \u001B[32mCreated\u001B[0m                                           \u001B[34m0.0s \u001B[0m\n",
      " \u001B[32m✔\u001B[0m Container esplora     \u001B[32mCreated\u001B[0m                                           \u001B[34m0.0s \u001B[0m\n",
      "\u001B[?25h\u001B[1A\u001B[1A\u001B[1A\u001B[1A\u001B[1A\u001B[0G\u001B[?25l\u001B[34m[+] Running 4/4\u001B[0m\n",
      " \u001B[32m✔\u001B[0m Container bitcoin     \u001B[32mStarted\u001B[0m                                           \u001B[34m0.0s \u001B[0m\n",
      " \u001B[32m✔\u001B[0m Container electrs     \u001B[32mStarted\u001B[0m                                           \u001B[34m0.0s \u001B[0m\n",
      " \u001B[32m✔\u001B[0m Container chopsticks  \u001B[32mCreated\u001B[0m                                           \u001B[34m0.0s \u001B[0m\n",
      " \u001B[32m✔\u001B[0m Container esplora     \u001B[32mCreated\u001B[0m                                           \u001B[34m0.0s \u001B[0m\n",
      "\u001B[?25h\u001B[1A\u001B[1A\u001B[1A\u001B[1A\u001B[1A\u001B[0G\u001B[?25l\u001B[34m[+] Running 4/4\u001B[0m\n",
      " \u001B[32m✔\u001B[0m Container bitcoin     \u001B[32mStarted\u001B[0m                                           \u001B[34m0.0s \u001B[0m\n",
      " \u001B[32m✔\u001B[0m Container electrs     \u001B[32mStarted\u001B[0m                                           \u001B[34m0.0s \u001B[0m\n",
      " \u001B[32m✔\u001B[0m Container chopsticks  \u001B[32mCreated\u001B[0m                                           \u001B[34m0.0s \u001B[0m\n",
      " \u001B[32m✔\u001B[0m Container esplora     \u001B[32mCreated\u001B[0m                                           \u001B[34m0.0s \u001B[0m\n",
      "\u001B[?25h\u001B[1A\u001B[1A\u001B[1A\u001B[1A\u001B[1A\u001B[0G\u001B[?25l\u001B[34m[+] Running 4/4\u001B[0m\n",
      " \u001B[32m✔\u001B[0m Container bitcoin     \u001B[32mStarted\u001B[0m                                           \u001B[34m0.0s \u001B[0m\n",
      " \u001B[32m✔\u001B[0m Container electrs     \u001B[32mStarted\u001B[0m                                           \u001B[34m0.0s \u001B[0m\n",
      " \u001B[32m✔\u001B[0m Container chopsticks  \u001B[32mStarted\u001B[0m                                           \u001B[34m0.0s \u001B[0m\n",
      " \u001B[32m✔\u001B[0m Container esplora     \u001B[32mCreated\u001B[0m                                           \u001B[34m0.0s \u001B[0m\n",
      "\u001B[?25h\u001B[1A\u001B[1A\u001B[1A\u001B[1A\u001B[1A\u001B[0G\u001B[?25l\u001B[34m[+] Running 4/4\u001B[0m\n",
      " \u001B[32m✔\u001B[0m Container bitcoin     \u001B[32mStarted\u001B[0m                                           \u001B[34m0.0s \u001B[0m\n",
      " \u001B[32m✔\u001B[0m Container electrs     \u001B[32mStarted\u001B[0m                                           \u001B[34m0.0s \u001B[0m\n",
      " \u001B[32m✔\u001B[0m Container chopsticks  \u001B[32mStarted\u001B[0m                                           \u001B[34m0.0s \u001B[0m\n",
      " \u001B[32m✔\u001B[0m Container esplora     \u001B[32mCreated\u001B[0m                                           \u001B[34m0.0s \u001B[0m\n",
      "\u001B[?25h\u001B[1A\u001B[1A\u001B[1A\u001B[1A\u001B[1A\u001B[0G\u001B[?25l\u001B[34m[+] Running 4/4\u001B[0m\n",
      " \u001B[32m✔\u001B[0m Container bitcoin     \u001B[32mStarted\u001B[0m                                           \u001B[34m0.0s \u001B[0m\n",
      " \u001B[32m✔\u001B[0m Container electrs     \u001B[32mStarted\u001B[0m                                           \u001B[34m0.0s \u001B[0m\n",
      " \u001B[32m✔\u001B[0m Container chopsticks  \u001B[32mStarted\u001B[0m                                           \u001B[34m0.0s \u001B[0m\n",
      " \u001B[32m✔\u001B[0m Container esplora     \u001B[32mCreated\u001B[0m                                           \u001B[34m0.0s \u001B[0m\n",
      "\u001B[?25h\u001B[1A\u001B[1A\u001B[1A\u001B[1A\u001B[1A\u001B[0G\u001B[?25l\u001B[34m[+] Running 4/4\u001B[0m\n",
      " \u001B[32m✔\u001B[0m Container bitcoin     \u001B[32mStarted\u001B[0m                                           \u001B[34m0.0s \u001B[0m\n",
      " \u001B[32m✔\u001B[0m Container electrs     \u001B[32mStarted\u001B[0m                                           \u001B[34m0.0s \u001B[0m\n",
      " \u001B[32m✔\u001B[0m Container chopsticks  \u001B[32mStarted\u001B[0m                                           \u001B[34m0.0s \u001B[0m\n",
      " \u001B[32m✔\u001B[0m Container esplora     \u001B[32mCreated\u001B[0m                                           \u001B[34m0.0s \u001B[0m\n",
      "\u001B[?25h\u001B[1A\u001B[1A\u001B[1A\u001B[1A\u001B[1A\u001B[0G\u001B[?25l\u001B[34m[+] Running 4/4\u001B[0m\n",
      " \u001B[32m✔\u001B[0m Container bitcoin     \u001B[32mStarted\u001B[0m                                           \u001B[34m0.0s \u001B[0m\n",
      " \u001B[32m✔\u001B[0m Container electrs     \u001B[32mStarted\u001B[0m                                           \u001B[34m0.0s \u001B[0m\n",
      " \u001B[32m✔\u001B[0m Container chopsticks  \u001B[32mStarted\u001B[0m                                           \u001B[34m0.0s \u001B[0m\n",
      " \u001B[32m✔\u001B[0m Container esplora     \u001B[32mStarted\u001B[0m                                           \u001B[34m0.0s \u001B[0m\n",
      "\u001B[?25h\n",
      "ENDPOINTS\n",
      "chopsticks localhost:3000\n",
      "bitcoin localhost:18443\n",
      "bitcoin localhost:18444\n",
      "bitcoin localhost:28332\n",
      "bitcoin localhost:28333\n",
      "cln localhost:9935\n",
      "cln localhost:9835\n",
      "esplora localhost:5000\n",
      "tap localhost:10029\n",
      "tap localhost:8089\n",
      "electrs localhost:50000\n",
      "electrs localhost:30000\n",
      "lnd localhost:9735\n",
      "lnd localhost:10009\n",
      "lnd localhost:18080\n"
     ]
    }
   ],
   "source": [
    "# %rm -rf ./nigiri-datadir \n",
    "%mkdir ./nigiri-datadir\n",
    "\n",
    "%alias nigiri-start nigiri --datadir ./nigiri-datadir start \n",
    "\n",
    "%nigiri-start\n"
   ]
  },
  {
   "cell_type": "code",
   "execution_count": 3,
   "id": "8578aae9-3b13-42c5-af55-3dea56e53a4b",
   "metadata": {
    "is_executing": true
   },
   "outputs": [
    {
     "name": "stdout",
     "output_type": "stream",
     "text": [
      "{\n",
      "\u001B[94m    \"bestblockhash\"\u001B[0m: \u001B[96m \"56599d7244bfba20e6f3b7f5f2ed81f04b998743f125699ffce5964c19f70574\",\u001B[0m\n",
      "\u001B[94m    \"blocks\"\u001B[0m: \u001B[96m 101,\u001B[0m\n",
      "\u001B[94m    \"chain\"\u001B[0m: \u001B[96m \"regtest\",\u001B[0m\n",
      "\u001B[94m    \"chainwork\"\u001B[0m: \u001B[96m \"00000000000000000000000000000000000000000000000000000000000000cc\",\u001B[0m\n",
      "\u001B[94m    \"difficulty\"\u001B[0m: \u001B[96m 4.656542373906925e-10,\u001B[0m\n",
      "\u001B[94m    \"headers\"\u001B[0m: \u001B[96m 101,\u001B[0m\n",
      "\u001B[94m    \"initialblockdownload\"\u001B[0m: \u001B[96m false,\u001B[0m\n",
      "\u001B[94m    \"mediantime\"\u001B[0m: \u001B[96m 1698029883,\u001B[0m\n",
      "\u001B[94m    \"pruned\"\u001B[0m: \u001B[96m false,\u001B[0m\n",
      "\u001B[94m    \"size_on_disk\"\u001B[0m: \u001B[96m 30375,\u001B[0m\n",
      "\u001B[94m    \"time\"\u001B[0m: \u001B[96m 1698029884,\u001B[0m\n",
      "\u001B[94m    \"verificationprogress\"\u001B[0m: \u001B[96m 1,\u001B[0m\n",
      "\u001B[94m    \"warnings\"\u001B[0m: \u001B[96m \"\"\u001B[0m\n",
      "}\n"
     ]
    }
   ],
   "source": [
    "%alias bcli nigiri --datadir ./nigiri-datadir rpc \n",
    "%bcli getblockchaininfo"
   ]
  },
  {
   "cell_type": "code",
   "execution_count": 4,
   "id": "a7c3112f-2be9-4301-9991-b442eff7b26b",
   "metadata": {
    "is_executing": true
   },
   "outputs": [
    {
     "name": "stdout",
     "output_type": "stream",
     "text": [
      "nigiri CLI version \n",
      "Version: 0.5.1\n",
      "Commit: 04a21f8e9e9b60614fe103c10b74736776bd2c7f\n",
      "Date: 2023-06-01T09:00:18Z\n"
     ]
    }
   ],
   "source": [
    "!nigiri --datadir ./nigiri-datadir -version"
   ]
  },
  {
   "cell_type": "code",
   "execution_count": 5,
   "id": "b768d379-faaa-4b69-8077-7f9eae9ead7a",
   "metadata": {
    "is_executing": true
   },
   "outputs": [
    {
     "name": "stdout",
     "output_type": "stream",
     "text": [
      "{\n",
      "\u001B[94m    \"name\"\u001B[0m: \u001B[96m \"miner\",\u001B[0m\n",
      "\u001B[94m    \"warning\"\u001B[0m: \u001B[96m \"\"\u001B[0m\n",
      "}\n",
      "{\n",
      "\u001B[94m    \"name\"\u001B[0m: \u001B[96m \"alice\",\u001B[0m\n",
      "\u001B[94m    \"warning\"\u001B[0m: \u001B[96m \"\"\u001B[0m\n",
      "}\n",
      "{\n",
      "\u001B[94m    \"name\"\u001B[0m: \u001B[96m \"bob\",\u001B[0m\n",
      "\u001B[94m    \"warning\"\u001B[0m: \u001B[96m \"\"\u001B[0m\n",
      "}\n"
     ]
    }
   ],
   "source": [
    "%bcli -named createwallet wallet_name=miner blank=true\n",
    "%bcli -named createwallet wallet_name=alice blank=true\n",
    "%bcli -named createwallet wallet_name=bob blank=true"
   ]
  },
  {
   "cell_type": "code",
   "execution_count": 6,
   "id": "311fe2fb-7305-4e25-9dd6-75343cb69f1b",
   "metadata": {},
   "outputs": [],
   "source": [
    "# %bcli -named loadwallet filename=miner \n",
    "# %bcli -named loadwallet filename=alice \n",
    "# %bcli -named loadwallet filename=bob "
   ]
  },
  {
   "cell_type": "code",
   "execution_count": 7,
   "id": "f9225cf6-54ba-4873-b6d9-f990122f55e0",
   "metadata": {},
   "outputs": [],
   "source": [
    "%alias bcli-miner nigiri --datadir ./nigiri-datadir rpc -rpcwallet=miner\n",
    "%alias bcli-alice nigiri --datadir ./nigiri-datadir rpc -rpcwallet=alice\n",
    "%alias bcli-bob nigiri --datadir ./nigiri-datadir rpc -rpcwallet=bob"
   ]
  },
  {
   "cell_type": "code",
   "execution_count": 8,
   "id": "a4046937-418b-4e74-a414-ecb47472449c",
   "metadata": {},
   "outputs": [
    {
     "name": "stdout",
     "output_type": "stream",
     "text": [
      "{\n",
      "\u001B[94m    \"avoid_reuse\"\u001B[0m: \u001B[96m false,\u001B[0m\n",
      "\u001B[94m    \"balance\"\u001B[0m: \u001B[96m 0,\u001B[0m\n",
      "\u001B[94m    \"descriptors\"\u001B[0m: \u001B[96m true,\u001B[0m\n",
      "\u001B[94m    \"external_signer\"\u001B[0m: \u001B[96m false,\u001B[0m\n",
      "\u001B[94m    \"format\"\u001B[0m: \u001B[96m \"sqlite\",\u001B[0m\n",
      "\u001B[94m    \"immature_balance\"\u001B[0m: \u001B[96m 0,\u001B[0m\n",
      "\u001B[94m    \"keypoolsize\"\u001B[0m: \u001B[96m 0,\u001B[0m\n",
      "\u001B[94m    \"keypoolsize_hd_internal\"\u001B[0m: \u001B[96m 0,\u001B[0m\n",
      "\u001B[94m    \"paytxfee\"\u001B[0m: \u001B[96m 0,\u001B[0m\n",
      "\u001B[94m    \"private_keys_enabled\"\u001B[0m: \u001B[96m true,\u001B[0m\n",
      "\u001B[94m    \"scanning\"\u001B[0m: \u001B[96m false,\u001B[0m\n",
      "\u001B[94m    \"txcount\"\u001B[0m: \u001B[96m 0,\u001B[0m\n",
      "\u001B[94m    \"unconfirmed_balance\"\u001B[0m: \u001B[96m 0,\u001B[0m\n",
      "\u001B[94m    \"walletname\"\u001B[0m: \u001B[96m \"miner\",\u001B[0m\n",
      "\u001B[94m    \"walletversion\"\u001B[0m: \u001B[96m 169900\u001B[0m\n",
      "}\n",
      "{\n",
      "\u001B[94m    \"avoid_reuse\"\u001B[0m: \u001B[96m false,\u001B[0m\n",
      "\u001B[94m    \"balance\"\u001B[0m: \u001B[96m 0,\u001B[0m\n",
      "\u001B[94m    \"descriptors\"\u001B[0m: \u001B[96m true,\u001B[0m\n",
      "\u001B[94m    \"external_signer\"\u001B[0m: \u001B[96m false,\u001B[0m\n",
      "\u001B[94m    \"format\"\u001B[0m: \u001B[96m \"sqlite\",\u001B[0m\n",
      "\u001B[94m    \"immature_balance\"\u001B[0m: \u001B[96m 0,\u001B[0m\n",
      "\u001B[94m    \"keypoolsize\"\u001B[0m: \u001B[96m 0,\u001B[0m\n",
      "\u001B[94m    \"keypoolsize_hd_internal\"\u001B[0m: \u001B[96m 0,\u001B[0m\n",
      "\u001B[94m    \"paytxfee\"\u001B[0m: \u001B[96m 0,\u001B[0m\n",
      "\u001B[94m    \"private_keys_enabled\"\u001B[0m: \u001B[96m true,\u001B[0m\n",
      "\u001B[94m    \"scanning\"\u001B[0m: \u001B[96m false,\u001B[0m\n",
      "\u001B[94m    \"txcount\"\u001B[0m: \u001B[96m 0,\u001B[0m\n",
      "\u001B[94m    \"unconfirmed_balance\"\u001B[0m: \u001B[96m 0,\u001B[0m\n",
      "\u001B[94m    \"walletname\"\u001B[0m: \u001B[96m \"alice\",\u001B[0m\n",
      "\u001B[94m    \"walletversion\"\u001B[0m: \u001B[96m 169900\u001B[0m\n",
      "}\n",
      "{\n",
      "\u001B[94m    \"avoid_reuse\"\u001B[0m: \u001B[96m false,\u001B[0m\n",
      "\u001B[94m    \"balance\"\u001B[0m: \u001B[96m 0,\u001B[0m\n",
      "\u001B[94m    \"descriptors\"\u001B[0m: \u001B[96m true,\u001B[0m\n",
      "\u001B[94m    \"external_signer\"\u001B[0m: \u001B[96m false,\u001B[0m\n",
      "\u001B[94m    \"format\"\u001B[0m: \u001B[96m \"sqlite\",\u001B[0m\n",
      "\u001B[94m    \"immature_balance\"\u001B[0m: \u001B[96m 0,\u001B[0m\n",
      "\u001B[94m    \"keypoolsize\"\u001B[0m: \u001B[96m 0,\u001B[0m\n",
      "\u001B[94m    \"keypoolsize_hd_internal\"\u001B[0m: \u001B[96m 0,\u001B[0m\n",
      "\u001B[94m    \"paytxfee\"\u001B[0m: \u001B[96m 0,\u001B[0m\n",
      "\u001B[94m    \"private_keys_enabled\"\u001B[0m: \u001B[96m true,\u001B[0m\n",
      "\u001B[94m    \"scanning\"\u001B[0m: \u001B[96m false,\u001B[0m\n",
      "\u001B[94m    \"txcount\"\u001B[0m: \u001B[96m 0,\u001B[0m\n",
      "\u001B[94m    \"unconfirmed_balance\"\u001B[0m: \u001B[96m 0,\u001B[0m\n",
      "\u001B[94m    \"walletname\"\u001B[0m: \u001B[96m \"bob\",\u001B[0m\n",
      "\u001B[94m    \"walletversion\"\u001B[0m: \u001B[96m 169900\u001B[0m\n",
      "}\n"
     ]
    }
   ],
   "source": [
    "%bcli-miner getwalletinfo \n",
    "%bcli-alice getwalletinfo \n",
    "%bcli-bob getwalletinfo"
   ]
  },
  {
   "cell_type": "code",
   "execution_count": 9,
   "id": "4f0b9878-68af-4a43-8afa-3cdd1570dd2d",
   "metadata": {
    "is_executing": true
   },
   "outputs": [
    {
     "name": "stdout",
     "output_type": "stream",
     "text": [
      "0\n",
      "0\n",
      "0\n"
     ]
    }
   ],
   "source": [
    "%bcli-miner getbalance\n",
    "%bcli-alice getbalance\n",
    "%bcli-bob getbalance"
   ]
  },
  {
   "cell_type": "code",
   "execution_count": 10,
   "id": "ba17cea9-4b09-4cbf-b516-05baf0e1e646",
   "metadata": {},
   "outputs": [
    {
     "name": "stdout",
     "output_type": "stream",
     "text": [
      "[\n",
      "    {\n",
      "\u001B[94m        \"success\"\u001B[0m: \u001B[96m true,\u001B[0m\n",
      "\u001B[94m        \"warnings\"\u001B[0m: \u001B[96m [\u001B[0m\n",
      "            \"Range not given, using default keypool range\"\n",
      "        ]\n",
      "    },\n",
      "    {\n",
      "\u001B[94m        \"success\"\u001B[0m: \u001B[96m true,\u001B[0m\n",
      "\u001B[94m        \"warnings\"\u001B[0m: \u001B[96m [\u001B[0m\n",
      "            \"Range not given, using default keypool range\"\n",
      "        ]\n",
      "    }\n",
      "]\n"
     ]
    }
   ],
   "source": [
    "%bcli-miner importdescriptors '[\\\n",
    "{ \"desc\": \"tr(tprv8ZgxMBicQKsPf7q5jzvoEkXEofysX3cCnDGYHxKGok9JycFvJiD4Pg34vWGU2LvHi2k6kDgDdPgPTcKcEeoFWvhCsvNx2Vj9mbYbp5KdjEW/86h/1h/0h/1/*)#cmy877ca\", \"active\": true, \"timestamp\": \"now\", \"internal\": true },\\\n",
    "{ \"desc\": \"tr(tprv8ZgxMBicQKsPf7q5jzvoEkXEofysX3cCnDGYHxKGok9JycFvJiD4Pg34vWGU2LvHi2k6kDgDdPgPTcKcEeoFWvhCsvNx2Vj9mbYbp5KdjEW/86h/1h/0h/0/*)#f0pxrtg9\", \"active\": true, \"timestamp\": \"now\" }\\\n",
    "]'\n",
    "\n"
   ]
  },
  {
   "cell_type": "code",
   "execution_count": 11,
   "id": "9ab4cfe0-f98a-4da3-8ece-35489b74681a",
   "metadata": {
    "is_executing": true
   },
   "outputs": [
    {
     "name": "stdout",
     "output_type": "stream",
     "text": [
      "[\n",
      "    {\n",
      "\u001B[94m        \"success\"\u001B[0m: \u001B[96m true,\u001B[0m\n",
      "\u001B[94m        \"warnings\"\u001B[0m: \u001B[96m [\u001B[0m\n",
      "            \"Range not given, using default keypool range\"\n",
      "        ]\n",
      "    },\n",
      "    {\n",
      "\u001B[94m        \"success\"\u001B[0m: \u001B[96m true,\u001B[0m\n",
      "\u001B[94m        \"warnings\"\u001B[0m: \u001B[96m [\u001B[0m\n",
      "            \"Range not given, using default keypool range\"\n",
      "        ]\n",
      "    }\n",
      "]\n"
     ]
    }
   ],
   "source": [
    "%bcli-alice importdescriptors '[\\\n",
    "{ \"desc\": \"tr(tprv8ZgxMBicQKsPeRA8qujKduQRTYn5WTXYWEHEa1ifz7EVj9FofrU4mZBEMfJAZoUmCE3xWe2Ms8enPtBhHgMevwvHajRTbhB6EQr3RAGa5xw/86h/1h/0h/1/*)#nyjatsta\", \"active\": true, \"timestamp\": \"now\", \"internal\": true },\\\n",
    "{ \"desc\": \"tr(tprv8ZgxMBicQKsPeRA8qujKduQRTYn5WTXYWEHEa1ifz7EVj9FofrU4mZBEMfJAZoUmCE3xWe2Ms8enPtBhHgMevwvHajRTbhB6EQr3RAGa5xw/86h/1h/0h/0/*)#zshuk9m9\", \"active\": true, \"timestamp\": \"now\" }\\\n",
    "]'"
   ]
  },
  {
   "cell_type": "code",
   "execution_count": 12,
   "id": "f2fd0277-5df9-4042-a3f6-439cbc666cbf",
   "metadata": {
    "is_executing": true
   },
   "outputs": [
    {
     "name": "stdout",
     "output_type": "stream",
     "text": [
      "[\n",
      "    {\n",
      "\u001B[94m        \"success\"\u001B[0m: \u001B[96m true,\u001B[0m\n",
      "\u001B[94m        \"warnings\"\u001B[0m: \u001B[96m [\u001B[0m\n",
      "            \"Range not given, using default keypool range\"\n",
      "        ]\n",
      "    },\n",
      "    {\n",
      "\u001B[94m        \"success\"\u001B[0m: \u001B[96m true,\u001B[0m\n",
      "\u001B[94m        \"warnings\"\u001B[0m: \u001B[96m [\u001B[0m\n",
      "            \"Range not given, using default keypool range\"\n",
      "        ]\n",
      "    }\n",
      "]\n"
     ]
    }
   ],
   "source": [
    " %bcli-bob importdescriptors '[ \\\n",
    "  { \"desc\": \"tr(tprv8ZgxMBicQKsPeesij9mBHF9Ca61CyKdCnuhgWwvKQKsAYjfLjfHuVUUz4HhgZqgDESnT5NujZ7WayQMYttre7NuupmeeJN4fbUMykxep4w6/86h/1h/0h/1/*)#v0sqfaum\", \"active\": true, \"timestamp\": \"now\", \"internal\": true }, \\\n",
    "  { \"desc\": \"tr(tprv8ZgxMBicQKsPeesij9mBHF9Ca61CyKdCnuhgWwvKQKsAYjfLjfHuVUUz4HhgZqgDESnT5NujZ7WayQMYttre7NuupmeeJN4fbUMykxep4w6/86h/1h/0h/0/*)#am4p5gvr\", \"active\": true, \"timestamp\": \"now\" } \\\n",
    "]'"
   ]
  },
  {
   "cell_type": "code",
   "execution_count": 13,
   "id": "257d1bad-78c6-41b0-a19d-4b0143af885f",
   "metadata": {
    "is_executing": true
   },
   "outputs": [],
   "source": [
    "\n",
    "def bcli(args):\n",
    "  argz = f\"-s {args}\"\n",
    "  something=ipython.run_cell_magic('sh', argz, '''\n",
    "#!/bin/bash\n",
    "\n",
    "\n",
    "nigiri --datadir ./nigiri-datadir rpc -rpcwallet=$@\n",
    "\n",
    "''')\n",
    "  return \n"
   ]
  },
  {
   "cell_type": "code",
   "execution_count": 14,
   "id": "d7dc4770-b882-4810-8284-2060427d18b7",
   "metadata": {},
   "outputs": [],
   "source": [
    "%%capture address_miner\n",
    "bcli(\"miner getnewaddress _ bech32m\")"
   ]
  },
  {
   "cell_type": "code",
   "execution_count": 15,
   "id": "b36c56d3-19fb-4d10-b850-21d88315882e",
   "metadata": {},
   "outputs": [
    {
     "name": "stdout",
     "output_type": "stream",
     "text": [
      "bcrt1p8mae5m5kxm49lp5raedu3k833ug35w43l58wlphpv6mcucx6syysl9v4n4\n"
     ]
    }
   ],
   "source": [
    "print(address_miner)"
   ]
  },
  {
   "cell_type": "code",
   "execution_count": 16,
   "id": "bf28e1e5-cce8-4b66-bba1-3a46d5191f85",
   "metadata": {},
   "outputs": [],
   "source": [
    "\n",
    "def inner_mine(args):\n",
    "  argz = f\"-s {args}\"\n",
    "  return lambda: ipython.run_cell_magic('sh', argz, f'''\n",
    "#!/bin/bash\n",
    "\n",
    "\n",
    "nigiri --datadir ./nigiri-datadir rpc -rpcwallet=miner generatetoaddress $@ {address_miner}\n",
    "\n",
    "''')\n",
    "\n",
    "def mine(args): \n",
    "    return inner_mine(args)()\n",
    "\n"
   ]
  },
  {
   "cell_type": "code",
   "execution_count": 17,
   "id": "a957041e-90c4-4e91-b634-81f06205f27f",
   "metadata": {},
   "outputs": [],
   "source": [
    "%%capture address_bob\n",
    "bcli(\"bob getnewaddress _ bech32m\")"
   ]
  },
  {
   "cell_type": "code",
   "execution_count": 18,
   "id": "0dff3693-5f9d-41d4-9ae8-0ac4be35350c",
   "metadata": {},
   "outputs": [
    {
     "name": "stdout",
     "output_type": "stream",
     "text": [
      "bcrt1phwj54nyrrf6cjm9wpy5cvmt0vkcawpnqhqnrzr5vnudnjgkxhsds6a3av2\n"
     ]
    }
   ],
   "source": [
    "print(address_bob)"
   ]
  },
  {
   "cell_type": "code",
   "execution_count": 19,
   "id": "b7c0a892-0d40-45f0-bda8-bd39c2caddb4",
   "metadata": {},
   "outputs": [],
   "source": [
    "%%capture new_blocks\n",
    "\n",
    "mine(105)"
   ]
  },
  {
   "cell_type": "code",
   "execution_count": 20,
   "id": "7141e3bb-4445-42c2-9acf-dc41ae8f2987",
   "metadata": {},
   "outputs": [
    {
     "name": "stdout",
     "output_type": "stream",
     "text": [
      "[\n",
      "    \"15a9c10efadbae5fdc00f231bb61c0e3a537d70084fbc7a32ba8fb82650f7e8b\",\n",
      "    \"6fc679840569fe3ad0c6dcf54f1d2e55bb1e2ecc53bc69bcaaf2be0c155be8ce\",\n",
      "    \"601af1039d8e7e55e42db698ad1e1cda7b993977b2d6e384a0b765dec39b6058\",\n",
      "    \"00711b279377bcb52f5f103a9a654ad4e3707e058bdb4a00c88aca165e4bbf5b\",\n",
      "    \"7ad37fe9e38e2d152dc6cb8b9cb7ee9e40c4f1ec973d7e036b13b77b914aff02\",\n",
      "    \"27009f5b0c07a619e5476dadcc46771bbfaed2e03ec42469303bfd3248ea8d3f\",\n",
      "    \"009375d786247a195848051e140c2dafaf04108c501ab8ef2c3394abaa9378c0\",\n",
      "    \"2a314d4dd1d0c4e4b04fdf8a59ae49a4092339e90a7318bd2bac43f1aca6db8a\",\n",
      "    \"1aa929831408f3f3d2319121ef46bf7d43b8d3b6a1a1cda28de86cb680108a1e\",\n",
      "    \"2625d1a2812249f856ba4782ecefdd0fc754c8b8659f510bc26121a7370c6f28\",\n",
      "    \"2348d2d1453ef7ca46e8d794ebeeb0cfa05ae40c61c20405d797e1f95aea3a63\",\n",
      "    \"257f7474d160737a35b63cffb3a907b26e6646dd1f9cffd396df71d62d936214\",\n",
      "    \"5b0be0f3b8e1b2f85c52f08ab79d2deb143516d7b6c1159cf88f77792c727120\",\n",
      "    \"1ff0c546e2a33efe640016d23c45a64e9ba6e42f0f71d3189e43057f516474e2\",\n",
      "    \"7f143ce80720bee9d4b1e12f92c3c3de4f7b77e6386704e96ecfd7ad1dea3bee\",\n",
      "    \"3d00e42c197d9bc34d2cdf7ed27319d6ab307a9ec7fee2292a96d8effc109830\",\n",
      "    \"30d190b8d3907076a1dc187ea1957d8db9b1aa034c71eb6354ce2c561d87100e\",\n",
      "    \"34e9f2f2c293e41e267e8613c3bb1207454c57c8da4318a57ad8c2f463bfeffa\",\n",
      "    \"6fb51bd66b9742122900a894606c5d119efb329682249108e6cf88fb67838c0b\",\n",
      "    \"761c2bd6c31ea162d2ae8c4cb93891f882ee431166209d8ea79b14f0bfaf5972\",\n",
      "    \"4c3cf1ad1a31a1357226d4797fa96626e1b18502ff53b53ad704a653024b8fe3\",\n",
      "    \"513f38a5401b24b8181097af3d2110c6f5a0b8cc36ca7ddadbd8ddce9b4182a6\",\n",
      "    \"3d69806aa0245f8399d74fedb56370b08423f76a30d21d3012b5b1ab7e1c7008\",\n",
      "    \"057bfa07f2b00dd525347ba8ca07550a95b4fd1e9ae6998113f26aabf78804ab\",\n",
      "    \"378163fc8cb5f6852d7ae6ab339abb8a0e2e19b205c085c2f63add058b5b3ada\",\n",
      "    \"3c1d6194efdbc7d7423a5dc88b60936175f72d6d89e8d36c37c41b83596bf29a\",\n",
      "    \"463ce71302376a8743d83bc890ce2a13d44626557d16df79508a83c081a80968\",\n",
      "    \"27ef7182868abb48cd95aa207e9726bf5740c24587419c06c47f7c994383f9c8\",\n",
      "    \"1739fc616401e394996c350d83048ae0beaf1d42dabb27f17d665eefdb74dfa8\",\n",
      "    \"5a750db82defd2c190a4afbabbf4bc71bddb7b21e29fbda42b843d90cdb4af48\",\n",
      "    \"6ffe93bfac4118909b9731f813fd734160021bcfe9c425aef6c0f9f7d0280dbf\",\n",
      "    \"20460ee42dd88dfe70e7189e7c62e135ae8d8c992d3f16fff68c6d97af81ef95\",\n",
      "    \"66903e3ba5d277a3716cad0306e0db5a4e77715b89162de6deb0f052bc0ef07e\",\n",
      "    \"730adec7cf0b90fb2d81a9bc110e3f6288c858d05aa003e7985c431d4e1fef42\",\n",
      "    \"1e6bd02260cca7fa06914188ed3a6e9b6da3ef53b3fac86557bca6dc26a9a27e\",\n",
      "    \"6fb985edee0b81eaba3af117240ea05d37ec85712b81f75759af036ba5087518\",\n",
      "    \"1041fa09f2ed65ae7143b4c80e98adfcccefc36d65de088cd14c8136808e3986\",\n",
      "    \"185b86d5c1624d839bd9563ab0bded500a2cc74aa8ef62f055ac320ea8134e32\",\n",
      "    \"13cc57073755b108777a638f3ba994e63286bbfe3a5a67b2dcc664292d764eb3\",\n",
      "    \"3ed26aa76bfcb1d27dda942d98161868fff60ee5f62187ae50ca7da59df24326\",\n",
      "    \"7caccb3919d80169111531292c10b8191c7b1b702b5c4a5543bae4c41f780871\",\n",
      "    \"425f1fa2211e44ca9b7ed1de2a619c4b7b272b97f76e3436daa9fca7ada54767\",\n",
      "    \"2c16d080b3b2b340d7649a33a559386e85ff3765fddc9babd728d382c02664e5\",\n",
      "    \"251461c7b1280d3b9044bfded35e35657e85514b6875c1b27c237ea380cf4f43\",\n",
      "    \"6a8799b4e94bf2a994206ac8d30e93b17c346e05973c944c46e0d72bf1628396\",\n",
      "    \"6d1694c229b54eea9e9b6d304453b58208ff76b8bc3127f2b46d474600ed90cf\",\n",
      "    \"13bd14b2325088481ba7a319c3222e22ef17dd26a0a0feafc7c73c8706a5d62f\",\n",
      "    \"2d7cb040cb0cdc5731978bbe0cd44a74fe8d0a4b024b15071cdd00d9493a26f1\",\n",
      "    \"253685daa9940ef022a3346a623a65ab763fb5ba240d0f9ba4446e49d1244079\",\n",
      "    \"51777dc0f53a849bb3116deacc2a13b9717eb4e932ae8d2c43588732e4781247\",\n",
      "    \"69e9fb717834b7cea9407545aabfc6a2d7ca28b4ad5f7ac13ca735fe9b0290e3\",\n",
      "    \"3ded305c0d695bdfc5d887152e21c50c023a2920018544af2bb4a7014accf14d\",\n",
      "    \"596bc7ded50008c102c3eb87459bc946263ef5cb2f43e82b6d2eaa8c65b5a4d1\",\n",
      "    \"4710ba233b5b29eb557adb083b103fa8545b7f4b5f33f6d7f86f1b23d63e8df3\",\n",
      "    \"417903e0ec9de59be1068c4f607146540c4ce47e4fd68b421bd91fbdaa24629d\",\n",
      "    \"0a91b195d805061bf4762cbc911f4880139557cda983d2f7ac74df6dc0b6aac9\",\n",
      "    \"1280914a5f8e7d1b80c1303b6051e259081bdbb020365fc34307f075c26681c6\",\n",
      "    \"14d1302c6de11d0179980eab1c904ebcac0334d201b09963f944660a7bfff891\",\n",
      "    \"001afcd1b00ab215c8ea55e9b9645badb31263d28f399373e0748ce7c25b5c80\",\n",
      "    \"422ed634a73d2a7199d60ace6f27a625a8bddec59a34f9c3f48279a15cba77c2\",\n",
      "    \"10cf341362657e59e75608624fd397e84b990f1a918e27fd0368a4e568b0f043\",\n",
      "    \"2ed96e8be943dd736bf051f742b056d2c922591925da5b86860ce290e2798e7b\",\n",
      "    \"6c5225b3ce440c0ef9add2c9aabb8b357bdcf7fdb8bf46e15b721dc682b2d9ea\",\n",
      "    \"437ffe3756206cf2bb4233a2a2c471c28226e825fd4205561b8ae38fb844793d\",\n",
      "    \"3914ce6d6b312fe5555f7d3b014c292ac1996e4a3c3144691a7233d71854960c\",\n",
      "    \"5dd630225bb9faf76abb67e243d2a5f4beecd5cdf33e73fb766101689e2a404a\",\n",
      "    \"1c04e4ed47c3cfa92eaca44b522ebeec7b2c0f63559296dcc96c3b751e2dbe6b\",\n",
      "    \"241adc3e1ad16ae65f65c6e4588a4fd067337da4959153ffa3d19e86fca38e45\",\n",
      "    \"2caa79e49413b9548e5dc8afb36cedd5e5bd259ba08b727760778778c2872255\",\n",
      "    \"5ea7a7c9e832603f0402318b083db2b0efc23e653c4a85fe4c42bbe8843083d1\",\n",
      "    \"44e17acb17d041e2dff1ef68588df833b791348ba5421f9ffaeaa026773ced56\",\n",
      "    \"2b9e330b7e6c3ed903f90166c287206b84e9600bfacb8e22a0e864ee09e131ad\",\n",
      "    \"3bf0dfaa11afda3aa823012fdeccf8883dde0aef9b964bcedb3e34e59e0f7afa\",\n",
      "    \"5032f2a780f04a57725cd9b970d9550756ec6e9958764cb6b9a0041e3e084542\",\n",
      "    \"4109b050c50f19cbc454ebae83b4ee0d58cad1b28eb02171b27ba3874b853d45\",\n",
      "    \"5b4601abb39b0bd17c65ffec2aea514f43bdc66fdac0d4b4c33ab74825b12e17\",\n",
      "    \"3f52635e576cda7f7348ba1f5ba6d14e7ef2758c306afa98b11a45401b0dd16b\",\n",
      "    \"15029358c47d0bbd2d6d96bd2147f766c24fe35bbd80e133061a0a48f335e74b\",\n",
      "    \"176f2ff189bc599ecdc4125b14a4b4ede7082add7783069a38872f74d75bff49\",\n",
      "    \"2499c8c1c93d0d945e68588ec9cbb5a86cc6ad404e1ca98b8d31b49291dbb2ec\",\n",
      "    \"3c5e749ae712a560cdee246e62b9c4a1ac90b640eda80b0e228e079d5f7d6aff\",\n",
      "    \"570b25547f943d7cdb17abb708ff1fee37f07eb99640206f1a9ed97bc3fed939\",\n",
      "    \"2d5ee8c174503b9a90b95ea82d4ea2179d56de52185fc1d96d654212ed6ec068\",\n",
      "    \"4fdb58851817213669ab36b6e2713f23d6f8e4425ecd967cae53e30b6369a2ea\",\n",
      "    \"1887e8264b277625425052505ea3bf018863d53b1f1e425cab3513e6b2188828\",\n",
      "    \"0aab493528d665375606a3c82cbd835aa5bd9b72b8554944718db20a8894f5d9\",\n",
      "    \"146b436c80de14ee49af31a88a2942d9b369702fbd5d06f00772bfa27ae7f19e\",\n",
      "    \"31275d4e4e2e98b129f3812e553f381a0a79094298ade3f4ed7dce2d176fc04c\",\n",
      "    \"4875c9d97917e23f36448d234752752f799a492981a9f60b135431a930cf1f06\",\n",
      "    \"2ae3c6cec4d8228bc3dd1f80a804b7a7dc26a28119afda9cf74535e147499910\",\n",
      "    \"7fd9936583f89fe1a52952d467f963ce35ea39885bb2bbd0a62dfc385b1fe2a7\",\n",
      "    \"56a38f54ce8115a0768f0187c867f9a61ad2e4d4cd7e3886116e45aa1f96742a\",\n",
      "    \"596726fa9bdaeb5f4b7974f999b13d268886745a27b3ece97fb21a7cb63d9842\",\n",
      "    \"3999c12cb10105595f7ae7b5b0f5d5e5858e84409806ad27a0b4c366df5010c2\",\n",
      "    \"048cf6b69e301a48a57871436f9ed1ec5c3eda9c3e20cb0832264ef0bf9c9453\",\n",
      "    \"1142d10d1074407297f4faf826c6dae01400e2c7c3690dc40794210caebcc619\",\n",
      "    \"2815169284dddbcd2b5da310b8cbd60303d6c8c171d48d935140940ecc6d7c09\",\n",
      "    \"07c83de16790ce2ae0ac79a7dd699ec519b3f38b2f9f551f693257f17d3f84ac\",\n",
      "    \"09835f7993f109160118f525ae9b73dfaca766d6d582202673918f53d79d8df0\",\n",
      "    \"1d34a85e89a988e9fe8a51759008a36e15f82bf5f99680923475dc1801900e53\",\n",
      "    \"2ea1eb757ed07c4b8f0c196c7026c68a5f8db217a2f815418d1b40a0bc6e6584\",\n",
      "    \"279ffc8727275dc9abcc69632c3f5033e11d27e9e6191ccf2671921cdd879955\",\n",
      "    \"3f2987182f2ee64a1d8acff5c5b49ea0e8212da5f432358ab66625e252f427c1\",\n",
      "    \"1a5f0a3acd0996d1803498518249c876e0d49bb2384e6b86d1d8f5d870777a3c\",\n",
      "    \"6adbc6474fe7d108e9679c923e75c58e76dd5df9452cc0752d95473314f58bf4\"\n",
      "]\n"
     ]
    }
   ],
   "source": [
    "print(new_blocks)"
   ]
  },
  {
   "cell_type": "code",
   "execution_count": 21,
   "id": "95f429f2-4d9c-486e-845a-77ad300ba20e",
   "metadata": {},
   "outputs": [
    {
     "name": "stdout",
     "output_type": "stream",
     "text": [
      "250\n"
     ]
    }
   ],
   "source": [
    "%bcli-miner getbalance\n"
   ]
  },
  {
   "cell_type": "code",
   "execution_count": 22,
   "id": "adbaa740-2422-4e2e-8552-b152e212498d",
   "metadata": {},
   "outputs": [
    {
     "name": "stdout",
     "output_type": "stream",
     "text": [
      "0\n",
      "0\n"
     ]
    }
   ],
   "source": [
    "%bcli-alice getbalance\n",
    "%bcli-bob getbalance"
   ]
  },
  {
   "cell_type": "code",
   "execution_count": 23,
   "id": "65d96d64-56c4-4f4c-a35e-cca2c92f8bce",
   "metadata": {
    "is_executing": true
   },
   "outputs": [],
   "source": [
    "%%capture address_alice\n",
    "bcli(\"alice getnewaddress _ bech32m\")"
   ]
  },
  {
   "cell_type": "code",
   "execution_count": 24,
   "id": "dd913665-80fd-403e-830f-ed3f7f114368",
   "metadata": {
    "is_executing": true
   },
   "outputs": [
    {
     "name": "stdout",
     "output_type": "stream",
     "text": [
      "bcrt1pw35dls0zluussp9ym7j25dxczvp20v73m4mye7yz5vxd5u4f4ccq3hz2g5\n"
     ]
    }
   ],
   "source": [
    "print(address_alice)\n"
   ]
  },
  {
   "cell_type": "code",
   "execution_count": 25,
   "id": "276eebac-2ffb-4ea1-bb50-68e90b6b3a53",
   "metadata": {},
   "outputs": [
    {
     "name": "stdout",
     "output_type": "stream",
     "text": [
      "4a0dadb75e5ea88ee21371904f9d1bc0406612f76e303d87429bf793707b40d8\n",
      "\n",
      "c353088cb150fac2ff90b5a7d1a0c092a6511ade7752a8f9b5c92e5fa529071b\n",
      "\n",
      "55025f328a6e796879a1dcaa88a62ba0b1a04d069c0774a077a5e8b13ff92aaf\n",
      "\n",
      "b0569211444c8226ea560a6ff095c355f846079884ab20b67c0cf85710572e1a\n",
      "\n",
      "1f44b9c4a5d06a2146ca0501bd7e2b4ea14ff7e5cc4b6296ebac5a07e6592d12\n",
      "\n",
      "457a27dc38677a573d85252d031e67004a5377eddfc4085fb1d085e9dc439556\n"
     ]
    }
   ],
   "source": [
    "bcli(\"miner sendtoaddress {address_alice} 25.0\")\n",
    "bcli(\"miner sendtoaddress {address_bob} 25.0\")\n",
    "bcli(\"miner sendtoaddress {address_alice} 25.0\")\n",
    "bcli(\"miner sendtoaddress {address_bob} 25.0\")\n",
    "bcli(\"miner sendtoaddress {address_alice} 25.0\")\n",
    "bcli(\"miner sendtoaddress {address_bob} 25.0\")"
   ]
  },
  {
   "cell_type": "code",
   "execution_count": 26,
   "id": "e15911df-9cb5-4317-baf9-e2fc73652565",
   "metadata": {
    "is_executing": true
   },
   "outputs": [
    {
     "name": "stdout",
     "output_type": "stream",
     "text": [
      "{\n",
      "\u001B[94m    \"bestblockhash\"\u001B[0m: \u001B[96m \"6adbc6474fe7d108e9679c923e75c58e76dd5df9452cc0752d95473314f58bf4\",\u001B[0m\n",
      "\u001B[94m    \"blocks\"\u001B[0m: \u001B[96m 206,\u001B[0m\n",
      "\u001B[94m    \"chain\"\u001B[0m: \u001B[96m \"regtest\",\u001B[0m\n",
      "\u001B[94m    \"chainwork\"\u001B[0m: \u001B[96m \"000000000000000000000000000000000000000000000000000000000000019e\",\u001B[0m\n",
      "\u001B[94m    \"difficulty\"\u001B[0m: \u001B[96m 4.656542373906925e-10,\u001B[0m\n",
      "\u001B[94m    \"headers\"\u001B[0m: \u001B[96m 206,\u001B[0m\n",
      "\u001B[94m    \"initialblockdownload\"\u001B[0m: \u001B[96m false,\u001B[0m\n",
      "\u001B[94m    \"mediantime\"\u001B[0m: \u001B[96m 1698029916,\u001B[0m\n",
      "\u001B[94m    \"pruned\"\u001B[0m: \u001B[96m false,\u001B[0m\n",
      "\u001B[94m    \"size_on_disk\"\u001B[0m: \u001B[96m 63004,\u001B[0m\n",
      "\u001B[94m    \"time\"\u001B[0m: \u001B[96m 1698029917,\u001B[0m\n",
      "\u001B[94m    \"verificationprogress\"\u001B[0m: \u001B[96m 1,\u001B[0m\n",
      "\u001B[94m    \"warnings\"\u001B[0m: \u001B[96m \"\"\u001B[0m\n",
      "}\n"
     ]
    }
   ],
   "source": [
    "%bcli-miner getblockchaininfo"
   ]
  },
  {
   "cell_type": "code",
   "execution_count": 27,
   "id": "4c23498c-c953-42c8-961b-a0b78df7be4a",
   "metadata": {
    "is_executing": true
   },
   "outputs": [
    {
     "name": "stdout",
     "output_type": "stream",
     "text": [
      "0\n",
      "0\n"
     ]
    }
   ],
   "source": [
    "%bcli-alice getbalance\n",
    "%bcli-bob getbalance"
   ]
  },
  {
   "cell_type": "code",
   "execution_count": 28,
   "id": "9e38c8f3-2acb-41ed-afea-0ec22cb6705b",
   "metadata": {},
   "outputs": [
    {
     "name": "stdout",
     "output_type": "stream",
     "text": [
      "[\n",
      "    \"7056e71a2109e85b63dacb462dfbb38f130cac1a1e91cee65e63716d2c8454a2\"\n",
      "]\n"
     ]
    }
   ],
   "source": [
    "mine(1)"
   ]
  },
  {
   "cell_type": "code",
   "execution_count": 29,
   "id": "c46c65a0-acb3-41ba-a45b-079f82be84fd",
   "metadata": {},
   "outputs": [
    {
     "name": "stdout",
     "output_type": "stream",
     "text": [
      "75\n",
      "75\n"
     ]
    }
   ],
   "source": [
    "%bcli-alice getbalance\n",
    "%bcli-bob getbalance"
   ]
  },
  {
   "cell_type": "code",
   "execution_count": 30,
   "id": "a68b637d-fb72-4d24-be1a-8c68a5a836aa",
   "metadata": {
    "is_executing": true
   },
   "outputs": [
    {
     "name": "stdout",
     "output_type": "stream",
     "text": [
      "[\n",
      "    {\n",
      "\u001B[94m        \"address\"\u001B[0m: \u001B[96m \"bcrt1pw35dls0zluussp9ym7j25dxczvp20v73m4mye7yz5vxd5u4f4ccq3hz2g5\",\u001B[0m\n",
      "\u001B[94m        \"amount\"\u001B[0m: \u001B[96m 25,\u001B[0m\n",
      "\u001B[94m        \"confirmations\"\u001B[0m: \u001B[96m 1,\u001B[0m\n",
      "\u001B[94m        \"desc\"\u001B[0m: \u001B[96m \"tr([4e6f8ac3/86'/1'/0'/0/0]d32e69a4c0096a6cb8569e8f27a0753b7d57956e6a69898111187e3d61cdee08)#z2977rrt\",\u001B[0m\n",
      "\u001B[94m        \"label\"\u001B[0m: \u001B[96m \"_\",\u001B[0m\n",
      "\u001B[94m        \"parent_descs\"\u001B[0m: \u001B[96m [\u001B[0m\n",
      "            \"tr(tpubD6NzVbkrYhZ4XtBvjZPv3K4Y2aJ1fniT5Xt1rXkyQP2tZdWaJFHex3o6XmKRJWA5FVBAavmCWJRWsE3kA7pCCVENieSSqkte8fNxUfzb9E8/86'/1'/0'/0/*)#cuc3r4gc\"\n",
      "        ],\n",
      "\u001B[94m        \"safe\"\u001B[0m: \u001B[96m true,\u001B[0m\n",
      "\u001B[94m        \"scriptPubKey\"\u001B[0m: \u001B[96m \"51207468dfc1e2ff390804a4dfa4aa34d81302a7b3d1dd764cf882a30cda72a9ae30\",\u001B[0m\n",
      "\u001B[94m        \"solvable\"\u001B[0m: \u001B[96m true,\u001B[0m\n",
      "\u001B[94m        \"spendable\"\u001B[0m: \u001B[96m true,\u001B[0m\n",
      "\u001B[94m        \"txid\"\u001B[0m: \u001B[96m \"1f44b9c4a5d06a2146ca0501bd7e2b4ea14ff7e5cc4b6296ebac5a07e6592d12\",\u001B[0m\n",
      "\u001B[94m        \"vout\"\u001B[0m: \u001B[96m 0\u001B[0m\n",
      "    },\n",
      "    {\n",
      "\u001B[94m        \"address\"\u001B[0m: \u001B[96m \"bcrt1pw35dls0zluussp9ym7j25dxczvp20v73m4mye7yz5vxd5u4f4ccq3hz2g5\",\u001B[0m\n",
      "\u001B[94m        \"amount\"\u001B[0m: \u001B[96m 25,\u001B[0m\n",
      "\u001B[94m        \"confirmations\"\u001B[0m: \u001B[96m 1,\u001B[0m\n",
      "\u001B[94m        \"desc\"\u001B[0m: \u001B[96m \"tr([4e6f8ac3/86'/1'/0'/0/0]d32e69a4c0096a6cb8569e8f27a0753b7d57956e6a69898111187e3d61cdee08)#z2977rrt\",\u001B[0m\n",
      "\u001B[94m        \"label\"\u001B[0m: \u001B[96m \"_\",\u001B[0m\n",
      "\u001B[94m        \"parent_descs\"\u001B[0m: \u001B[96m [\u001B[0m\n",
      "            \"tr(tpubD6NzVbkrYhZ4XtBvjZPv3K4Y2aJ1fniT5Xt1rXkyQP2tZdWaJFHex3o6XmKRJWA5FVBAavmCWJRWsE3kA7pCCVENieSSqkte8fNxUfzb9E8/86'/1'/0'/0/*)#cuc3r4gc\"\n",
      "        ],\n",
      "\u001B[94m        \"safe\"\u001B[0m: \u001B[96m true,\u001B[0m\n",
      "\u001B[94m        \"scriptPubKey\"\u001B[0m: \u001B[96m \"51207468dfc1e2ff390804a4dfa4aa34d81302a7b3d1dd764cf882a30cda72a9ae30\",\u001B[0m\n",
      "\u001B[94m        \"solvable\"\u001B[0m: \u001B[96m true,\u001B[0m\n",
      "\u001B[94m        \"spendable\"\u001B[0m: \u001B[96m true,\u001B[0m\n",
      "\u001B[94m        \"txid\"\u001B[0m: \u001B[96m \"4a0dadb75e5ea88ee21371904f9d1bc0406612f76e303d87429bf793707b40d8\",\u001B[0m\n",
      "\u001B[94m        \"vout\"\u001B[0m: \u001B[96m 0\u001B[0m\n",
      "    },\n",
      "    {\n",
      "\u001B[94m        \"address\"\u001B[0m: \u001B[96m \"bcrt1pw35dls0zluussp9ym7j25dxczvp20v73m4mye7yz5vxd5u4f4ccq3hz2g5\",\u001B[0m\n",
      "\u001B[94m        \"amount\"\u001B[0m: \u001B[96m 25,\u001B[0m\n",
      "\u001B[94m        \"confirmations\"\u001B[0m: \u001B[96m 1,\u001B[0m\n",
      "\u001B[94m        \"desc\"\u001B[0m: \u001B[96m \"tr([4e6f8ac3/86'/1'/0'/0/0]d32e69a4c0096a6cb8569e8f27a0753b7d57956e6a69898111187e3d61cdee08)#z2977rrt\",\u001B[0m\n",
      "\u001B[94m        \"label\"\u001B[0m: \u001B[96m \"_\",\u001B[0m\n",
      "\u001B[94m        \"parent_descs\"\u001B[0m: \u001B[96m [\u001B[0m\n",
      "            \"tr(tpubD6NzVbkrYhZ4XtBvjZPv3K4Y2aJ1fniT5Xt1rXkyQP2tZdWaJFHex3o6XmKRJWA5FVBAavmCWJRWsE3kA7pCCVENieSSqkte8fNxUfzb9E8/86'/1'/0'/0/*)#cuc3r4gc\"\n",
      "        ],\n",
      "\u001B[94m        \"safe\"\u001B[0m: \u001B[96m true,\u001B[0m\n",
      "\u001B[94m        \"scriptPubKey\"\u001B[0m: \u001B[96m \"51207468dfc1e2ff390804a4dfa4aa34d81302a7b3d1dd764cf882a30cda72a9ae30\",\u001B[0m\n",
      "\u001B[94m        \"solvable\"\u001B[0m: \u001B[96m true,\u001B[0m\n",
      "\u001B[94m        \"spendable\"\u001B[0m: \u001B[96m true,\u001B[0m\n",
      "\u001B[94m        \"txid\"\u001B[0m: \u001B[96m \"55025f328a6e796879a1dcaa88a62ba0b1a04d069c0774a077a5e8b13ff92aaf\",\u001B[0m\n",
      "\u001B[94m        \"vout\"\u001B[0m: \u001B[96m 1\u001B[0m\n",
      "    }\n",
      "]\n"
     ]
    }
   ],
   "source": [
    "%bcli-alice listunspent"
   ]
  },
  {
   "cell_type": "code",
   "execution_count": 31,
   "id": "531cb12d-fb92-4a1c-810d-dac4ed0ea264",
   "metadata": {
    "is_executing": true
   },
   "outputs": [],
   "source": [
    "%%capture addressinfo\n",
    "\n",
    "bcli(f\"alice getaddressinfo {address_alice}\")"
   ]
  },
  {
   "cell_type": "code",
   "execution_count": 33,
   "id": "43c80c1a-296c-40bd-aff7-0c735e1c6eca",
   "metadata": {
    "is_executing": true
   },
   "outputs": [
    {
     "name": "stdout",
     "output_type": "stream",
     "text": [
      "{\n",
      "\u001B[94m    \"address\"\u001B[0m: \u001B[96m \"bcrt1pw35dls0zluussp9ym7j25dxczvp20v73m4mye7yz5vxd5u4f4ccq3hz2g5\",\u001B[0m\n",
      "\u001B[94m    \"desc\"\u001B[0m: \u001B[96m \"tr([4e6f8ac3/86'/1'/0'/0/0]d32e69a4c0096a6cb8569e8f27a0753b7d57956e6a69898111187e3d61cdee08)#z2977rrt\",\u001B[0m\n",
      "\u001B[94m    \"hdkeypath\"\u001B[0m: \u001B[96m \"m/86'/1'/0'/0/0\",\u001B[0m\n",
      "\u001B[94m    \"hdmasterfingerprint\"\u001B[0m: \u001B[96m \"4e6f8ac3\",\u001B[0m\n",
      "\u001B[94m    \"hdseedid\"\u001B[0m: \u001B[96m \"0000000000000000000000000000000000000000\",\u001B[0m\n",
      "\u001B[94m    \"ischange\"\u001B[0m: \u001B[96m false,\u001B[0m\n",
      "\u001B[94m    \"ismine\"\u001B[0m: \u001B[96m true,\u001B[0m\n",
      "\u001B[94m    \"isscript\"\u001B[0m: \u001B[96m true,\u001B[0m\n",
      "\u001B[94m    \"iswatchonly\"\u001B[0m: \u001B[96m false,\u001B[0m\n",
      "\u001B[94m    \"iswitness\"\u001B[0m: \u001B[96m true,\u001B[0m\n",
      "\u001B[94m    \"labels\"\u001B[0m: \u001B[96m [\u001B[0m\n",
      "        \"_\"\n",
      "    ],\n",
      "\u001B[94m    \"parent_desc\"\u001B[0m: \u001B[96m \"tr([4e6f8ac3/86'/1'/0']tpubDDV66WyYEyxdeHCFp2ij6X8KmczQGSsqCoFRJA7pwynVqurPdCfhPbHeXLxoXgkmqZkb2aweccZk4ZcVfiVV36cVuzemeWvKAu3HYcNAebk/0/*)#3lrtz6vs\",\u001B[0m\n",
      "\u001B[94m    \"scriptPubKey\"\u001B[0m: \u001B[96m \"51207468dfc1e2ff390804a4dfa4aa34d81302a7b3d1dd764cf882a30cda72a9ae30\",\u001B[0m\n",
      "\u001B[94m    \"solvable\"\u001B[0m: \u001B[96m true,\u001B[0m\n",
      "\u001B[94m    \"timestamp\"\u001B[0m: \u001B[96m 1698029883,\u001B[0m\n",
      "\u001B[94m    \"witness_program\"\u001B[0m: \u001B[96m \"7468dfc1e2ff390804a4dfa4aa34d81302a7b3d1dd764cf882a30cda72a9ae30\",\u001B[0m\n",
      "\u001B[94m    \"witness_version\"\u001B[0m: \u001B[96m 1\u001B[0m\n",
      "}\n"
     ]
    }
   ],
   "source": [
    "print(addressinfo)"
   ]
  },
  {
   "cell_type": "raw",
   "id": "0662a3d5-f920-4d00-a7b2-3554372adf51",
   "metadata": {},
   "source": [
    "Example 1"
   ]
  },
  {
   "cell_type": "code",
   "execution_count": 8,
   "id": "b1c320c1-88d4-45a1-95cb-6460fce043dd",
   "metadata": {},
   "outputs": [],
   "source": [
    "def reverse(hex_string):\n",
    "    return bytes.fromhex(hex_string)[::-1].hex()"
   ]
  },
  {
   "cell_type": "code",
   "execution_count": null,
   "id": "d5351547-6355-47c1-b568-b34003ffd7c3",
   "metadata": {},
   "outputs": [],
   "source": []
  },
  {
   "cell_type": "code",
   "execution_count": 34,
   "id": "dc933884-af5b-48f5-a37a-f014b39d0f0b",
   "metadata": {},
   "outputs": [
    {
     "name": "stdout",
     "output_type": "stream",
     "text": [
      "[\n",
      "    {\n",
      "\u001B[94m        \"allowed\"\u001B[0m: \u001B[96m true,\u001B[0m\n",
      "\u001B[94m        \"fees\"\u001B[0m: \u001B[96m {\u001B[0m\n",
      "\u001B[94m            \"base\"\u001B[0m: \u001B[96m 0.00001\u001B[0m\n",
      "        },\n",
      "\u001B[94m        \"txid\"\u001B[0m: \u001B[96m \"1e8512661d661e0d66f72f70d4bb73e0ee68b2bf3109bb4c1700c867bd8dc369\",\u001B[0m\n",
      "\u001B[94m        \"vsize\"\u001B[0m: \u001B[96m 155,\u001B[0m\n",
      "\u001B[94m        \"wtxid\"\u001B[0m: \u001B[96m \"8c20f1fe96e228e506178d1f6ab3f8bc1b5c3c1ee328497cb996918cd2d074c0\"\u001B[0m\n",
      "    }\n",
      "]\n"
     ]
    }
   ],
   "source": [
    "full_tx1=\"02000000000101122d59e6075aaceb96624bcce5f74fa14e2b7ebd0105ca46216ad0a5c4b9441f0000000000ffffffff0200e1f50500000000225120a72d8fa21001ac7d86d53c5fc90b61a19d514856a1afc2e6b122557dd11ece1a18140d8f000000002251205d8461c6fb30f8732420964f1dc9d99ca3fdd4f51e658e0578bf9cfd532988a7014100cf52f885085edeb64f971ba1a3be077a9d3e2bcc8e007d99396de6291e2ce58731079bf6477240fc69808c73003e745bc125b35d0e4a0fa9ff4e8af3fb87330100000000\" \n",
    "bcli(f\"\"\"alice testmempoolaccept '[\"{full_tx1}\"]'\"\"\")\n"
   ]
  },
  {
   "cell_type": "code",
   "execution_count": 35,
   "id": "730a062b-cc1e-47ad-9afa-cca451375798",
   "metadata": {},
   "outputs": [
    {
     "name": "stdout",
     "output_type": "stream",
     "text": [
      "1e8512661d661e0d66f72f70d4bb73e0ee68b2bf3109bb4c1700c867bd8dc369\n"
     ]
    }
   ],
   "source": [
    "bcli(f'alice sendrawtransaction {full_tx1}')\n"
   ]
  },
  {
   "cell_type": "code",
   "execution_count": 36,
   "id": "08aa490e-a6bd-44e0-a405-cb6ce5dbd3f2",
   "metadata": {},
   "outputs": [
    {
     "name": "stdout",
     "output_type": "stream",
     "text": [
      "[\n",
      "    \"3244696f6357d73b2c8519c1c5a76a58fc9bf112fe05a0e40e4b53bfa8506d00\"\n",
      "]\n"
     ]
    }
   ],
   "source": [
    "mine(1)"
   ]
  },
  {
   "cell_type": "raw",
   "id": "ee8dafea-7d48-48da-9593-31455695bc72",
   "metadata": {},
   "source": [
    "Example 2"
   ]
  },
  {
   "cell_type": "code",
   "execution_count": 37,
   "id": "e11c31e5-7a83-4efa-8660-e20cd99cac0b",
   "metadata": {},
   "outputs": [
    {
     "name": "stdout",
     "output_type": "stream",
     "text": [
      "[\n",
      "    {\n",
      "\u001B[94m        \"allowed\"\u001B[0m: \u001B[96m true,\u001B[0m\n",
      "\u001B[94m        \"fees\"\u001B[0m: \u001B[96m {\u001B[0m\n",
      "\u001B[94m            \"base\"\u001B[0m: \u001B[96m 0.00001\u001B[0m\n",
      "        },\n",
      "\u001B[94m        \"txid\"\u001B[0m: \u001B[96m \"f7551715817137377edda6d910f97ef205173063bd37db0b8c9983ef10773d60\",\u001B[0m\n",
      "\u001B[94m        \"vsize\"\u001B[0m: \u001B[96m 112,\u001B[0m\n",
      "\u001B[94m        \"wtxid\"\u001B[0m: \u001B[96m \"ed13d32d0e733f5258f3a430b7a59147824791d5a74b02236c4794fb50addff7\"\u001B[0m\n",
      "    }\n",
      "]\n"
     ]
    }
   ],
   "source": [
    "full_tx2=\"02000000000101d8407b7093f79b42873d306ef7126640c01b9d4f907113e28ea85e5eb7ad0d4a0000000000ffffffff0118f5029500000000225120c8802d868f0600a2368fdb953ece239d2226e8164be9183fc9849b4bae24401e0141b3741930df7cf1e2aa825f1db04ee5a544664a0bee318f8fd935fc798d6ed5e50f7722cee7907c7c08974e94c989bd637f12adbc2aff7cc1da0fb6dd5c32d4910100000000\"\n",
    "bcli(f\"\"\"alice testmempoolaccept '[\"{full_tx2}\"]'\"\"\")"
   ]
  },
  {
   "cell_type": "code",
   "execution_count": 38,
   "id": "100bee7f-6835-4742-9bf3-9d65ac914eef",
   "metadata": {},
   "outputs": [
    {
     "name": "stdout",
     "output_type": "stream",
     "text": [
      "f7551715817137377edda6d910f97ef205173063bd37db0b8c9983ef10773d60\n"
     ]
    }
   ],
   "source": [
    "bcli(f'alice sendrawtransaction {full_tx2}')"
   ]
  },
  {
   "cell_type": "code",
   "execution_count": 39,
   "id": "4f4d98cf-8010-4a42-8423-95e8f2adfb00",
   "metadata": {},
   "outputs": [
    {
     "name": "stdout",
     "output_type": "stream",
     "text": [
      "[\n",
      "    \"250ea8ace9420184442ea9684cd5c52cd826ceeedf8a4b499296e48981b5ec63\"\n",
      "]\n"
     ]
    }
   ],
   "source": [
    "mine(1)"
   ]
  },
  {
   "cell_type": "code",
   "execution_count": 40,
   "id": "310a8567-7bcd-4837-9911-578232c5fe84",
   "metadata": {
    "scrolled": true
   },
   "outputs": [
    {
     "name": "stdout",
     "output_type": "stream",
     "text": [
      "[\n",
      "    {\n",
      "\u001B[94m        \"allowed\"\u001B[0m: \u001B[96m false,\u001B[0m\n",
      "\u001B[94m        \"reject-reason\"\u001B[0m: \u001B[96m \"non-final\",\u001B[0m\n",
      "\u001B[94m        \"txid\"\u001B[0m: \u001B[96m \"18a9be3e9cad62532e5c8e6f02ce4b81f949ab5d2a814daefe45316156a30ee7\",\u001B[0m\n",
      "\u001B[94m        \"wtxid\"\u001B[0m: \u001B[96m \"8911ca762ab248d90bf2fea829331829e5606d91e94184520744adf6f4c17d81\"\u001B[0m\n",
      "    }\n",
      "]\n"
     ]
    }
   ],
   "source": [
    "full_tx2_B=\"02000000000101603d7710ef83998c0bdb37bd63301705f27ef910d9a6dd7e37377181151755f70000000000fdffffff0130f1029500000000225120a72d8fa21001ac7d86d53c5fc90b61a19d514856a1afc2e6b122557dd11ece1a034149d1f382ea798fd181f96174b4d0203c73e8acfb8d9f5280627d11a7568ce39844547ea1826c79f5570cab22f5683a1bc240b28c1f7fd23471855db6288dc9b6012702e803b175200d581db6ff5e3970ca0eaa17c74426e271ac5f2f8309a4018311470d9c669cc0ac21c17f3e515f2aa028beb01b9b56716efbc57d8a11c0cb4c158f68348a060e62228ee8030000\"\n",
    "bcli(f\"\"\"alice testmempoolaccept '[\"{full_tx2_B}\"]'\"\"\")"
   ]
  },
  {
   "cell_type": "code",
   "execution_count": 41,
   "id": "6de3f8fb-2d79-487d-82ff-f04e92b72e21",
   "metadata": {},
   "outputs": [],
   "source": [
    "%%capture sink\n",
    "mine(900)"
   ]
  },
  {
   "cell_type": "code",
   "execution_count": 42,
   "id": "1f1cc736-f7df-4e66-8bf4-bf614fc81f7e",
   "metadata": {
    "scrolled": true
   },
   "outputs": [
    {
     "name": "stdout",
     "output_type": "stream",
     "text": [
      "[\n",
      "    {\n",
      "\u001B[94m        \"allowed\"\u001B[0m: \u001B[96m true,\u001B[0m\n",
      "\u001B[94m        \"fees\"\u001B[0m: \u001B[96m {\u001B[0m\n",
      "\u001B[94m            \"base\"\u001B[0m: \u001B[96m 0.00001\u001B[0m\n",
      "        },\n",
      "\u001B[94m        \"txid\"\u001B[0m: \u001B[96m \"18a9be3e9cad62532e5c8e6f02ce4b81f949ab5d2a814daefe45316156a30ee7\",\u001B[0m\n",
      "\u001B[94m        \"vsize\"\u001B[0m: \u001B[96m 130,\u001B[0m\n",
      "\u001B[94m        \"wtxid\"\u001B[0m: \u001B[96m \"8911ca762ab248d90bf2fea829331829e5606d91e94184520744adf6f4c17d81\"\u001B[0m\n",
      "    }\n",
      "]\n"
     ]
    }
   ],
   "source": [
    "bcli(f\"\"\"bob testmempoolaccept '[\"{full_tx2_B}\"]'\"\"\")"
   ]
  },
  {
   "cell_type": "code",
   "execution_count": 43,
   "id": "d79fda1f-f017-40fd-a88a-38cab9603fcc",
   "metadata": {},
   "outputs": [
    {
     "name": "stdout",
     "output_type": "stream",
     "text": [
      "18a9be3e9cad62532e5c8e6f02ce4b81f949ab5d2a814daefe45316156a30ee7\n"
     ]
    }
   ],
   "source": [
    "bcli(f'bob sendrawtransaction {full_tx2_B}')"
   ]
  },
  {
   "cell_type": "code",
   "execution_count": 44,
   "id": "7d1e5c17-6ad4-4207-8f1c-3c74623b37be",
   "metadata": {},
   "outputs": [
    {
     "name": "stdout",
     "output_type": "stream",
     "text": [
      "[\n",
      "    \"143465b11151212156aa55ed1aa47916f6a620f5dadda985c77b4750ad9d027e\"\n",
      "]\n"
     ]
    }
   ],
   "source": [
    "mine(1)"
   ]
  },
  {
   "cell_type": "raw",
   "id": "7b92130d-9261-47b6-a3e7-846c466c9d88",
   "metadata": {},
   "source": [
    "Example 3"
   ]
  },
  {
   "cell_type": "code",
   "execution_count": 45,
   "id": "dbe709e9-7f71-4b9c-9355-5a7abb96cfa0",
   "metadata": {},
   "outputs": [
    {
     "name": "stdout",
     "output_type": "stream",
     "text": [
      "[\n",
      "    {\n",
      "\u001B[94m        \"allowed\"\u001B[0m: \u001B[96m true,\u001B[0m\n",
      "\u001B[94m        \"fees\"\u001B[0m: \u001B[96m {\u001B[0m\n",
      "\u001B[94m            \"base\"\u001B[0m: \u001B[96m 0.00001\u001B[0m\n",
      "        },\n",
      "\u001B[94m        \"txid\"\u001B[0m: \u001B[96m \"007df846819e7595e96b991a7efdfb23295c618d8969093169e88407ecc8735c\",\u001B[0m\n",
      "\u001B[94m        \"vsize\"\u001B[0m: \u001B[96m 112,\u001B[0m\n",
      "\u001B[94m        \"wtxid\"\u001B[0m: \u001B[96m \"a1f2eababfede194a44440d1c9f951cffaa3746558dd3b86fc99c0e58cfcd331\"\u001B[0m\n",
      "    }\n",
      "]\n"
     ]
    }
   ],
   "source": [
    "full_tx3_A=\"02000000000101af2af93fb1e8a577a074079c064da0b1a02ba688aadca17968796e8a325f02550100000000ffffffff0118f50295000000002251208c9163d0144e872af2495ff4e12c5325dc39792ba1ad909fe3c03bd9fef8048101411e263d148c084f320d8bb382d6ac215697a2ea2049d5a6ec794f105f9a4161d0fcac89c71e2920bbe266df9a3865c8d525f35b52820faf2b81bea48cc7d2632e0100000000\"\n",
    "bcli(f\"\"\"alice testmempoolaccept '[\"{full_tx3_A}\"]'\"\"\")"
   ]
  },
  {
   "cell_type": "code",
   "execution_count": 46,
   "id": "6ea7009f-c4ec-4062-9a86-e5a2ea366d28",
   "metadata": {},
   "outputs": [
    {
     "name": "stdout",
     "output_type": "stream",
     "text": [
      "007df846819e7595e96b991a7efdfb23295c618d8969093169e88407ecc8735c\n"
     ]
    }
   ],
   "source": [
    "bcli(f'alice sendrawtransaction {full_tx3_A}')"
   ]
  },
  {
   "cell_type": "code",
   "execution_count": 47,
   "id": "7b5d5cdd-a527-4700-85b4-71662666d13d",
   "metadata": {},
   "outputs": [
    {
     "name": "stdout",
     "output_type": "stream",
     "text": [
      "[\n",
      "    \"4071ebfcf88936c4827285d83b746e70e22356ac15a736a52d5680e89abf5f02\"\n",
      "]\n"
     ]
    }
   ],
   "source": [
    "mine(1)"
   ]
  },
  {
   "cell_type": "code",
   "execution_count": 48,
   "id": "f730db99-9e26-4676-98e9-f54b4a0bbfb1",
   "metadata": {},
   "outputs": [
    {
     "name": "stdout",
     "output_type": "stream",
     "text": [
      "[\n",
      "    {\n",
      "\u001B[94m        \"allowed\"\u001B[0m: \u001B[96m true,\u001B[0m\n",
      "\u001B[94m        \"fees\"\u001B[0m: \u001B[96m {\u001B[0m\n",
      "\u001B[94m            \"base\"\u001B[0m: \u001B[96m 0.00001\u001B[0m\n",
      "        },\n",
      "\u001B[94m        \"txid\"\u001B[0m: \u001B[96m \"4e6b33d60702f7c07599b50d0d3564f28522dd5ca3231eaba8241fba1368fbd1\",\u001B[0m\n",
      "\u001B[94m        \"vsize\"\u001B[0m: \u001B[96m 112,\u001B[0m\n",
      "\u001B[94m        \"wtxid\"\u001B[0m: \u001B[96m \"6990114e587308b13d50ce211287423b9b5cb4f8b54ea3aa73e0f113b5ed569c\"\u001B[0m\n",
      "    }\n",
      "]\n"
     ]
    }
   ],
   "source": [
    "full_tx3_B=\"020000000001015c73c8ec0784e869310969898d615c2923fbfd7e1a996be995759e8146f87d000000000000fdffffff0130f1029500000000225120fe6e6e0aa9e1c1368f423217b0f436b4a5f9a53d9b2323275d60c01fef1f6f8f01413689ee2688f3019f7cfe4d636faa140e35380f836e8ab9a69f1d77ccf9590c1692225b0c7887db2d3079dde32b9c504e19e23d94ab0b62a5e37fd6983be498510100000000\"\n",
    "bcli(f\"\"\"bob testmempoolaccept '[\"{full_tx3_B}\"]'\"\"\")"
   ]
  },
  {
   "cell_type": "code",
   "execution_count": 49,
   "id": "fecf577e-fc8b-43da-9777-136489a349b6",
   "metadata": {},
   "outputs": [
    {
     "name": "stdout",
     "output_type": "stream",
     "text": [
      "4e6b33d60702f7c07599b50d0d3564f28522dd5ca3231eaba8241fba1368fbd1\n"
     ]
    }
   ],
   "source": [
    "bcli(f'bob sendrawtransaction {full_tx3_B}')"
   ]
  },
  {
   "cell_type": "code",
   "execution_count": 50,
   "id": "d0ecc807-a7f9-490f-ae27-3a0ac534cd3a",
   "metadata": {},
   "outputs": [
    {
     "name": "stdout",
     "output_type": "stream",
     "text": [
      "[\n",
      "    \"7e65e368ca9a679a96b714f98c9bbb1d697dea4153f857f54a142f0272812162\"\n",
      "]\n"
     ]
    }
   ],
   "source": [
    "mine(1)"
   ]
  },
  {
   "cell_type": "code",
   "execution_count": null,
   "id": "139740fb-e785-44e6-bcbd-04faa13982b2",
   "metadata": {},
   "outputs": [],
   "source": []
  },
  {
   "cell_type": "code",
   "execution_count": 51,
   "id": "123eabec-776e-4803-97d2-3e7963d0b146",
   "metadata": {},
   "outputs": [
    {
     "name": "stdout",
     "output_type": "stream",
     "text": [
      "\u001B[1A\u001B[1B\u001B[0G\u001B[?25l[+] Stopping 0/0\n",
      " ⠋ Container esplora  Stopping                                             \u001B[34m0.1s \u001B[0m\n",
      "\u001B[?25h\u001B[1A\u001B[1A\u001B[0G\u001B[?25l[+] Stopping 0/1\n",
      " ⠙ Container esplora  Stopping                                             \u001B[34m0.2s \u001B[0m\n",
      "\u001B[?25h\u001B[1A\u001B[1A\u001B[0G\u001B[?25l[+] Stopping 0/1\n",
      " ⠹ Container esplora  Stopping                                             \u001B[34m0.3s \u001B[0m\n",
      "\u001B[?25h\u001B[1A\u001B[1A\u001B[0G\u001B[?25l[+] Stopping 0/1\n",
      " ⠸ Container esplora  Stopping                                             \u001B[34m0.4s \u001B[0m\n",
      "\u001B[?25h\u001B[1A\u001B[1A\u001B[0G\u001B[?25l[+] Stopping 0/1\n",
      " ⠼ Container esplora  Stopping                                             \u001B[34m0.5s \u001B[0m\n",
      "\u001B[?25h\u001B[1A\u001B[1A\u001B[0G\u001B[?25l[+] Stopping 0/1\n",
      " ⠴ Container esplora  Stopping                                             \u001B[34m0.6s \u001B[0m\n",
      "\u001B[?25h\u001B[1A\u001B[1A\u001B[0G\u001B[?25l[+] Stopping 0/1\n",
      " ⠦ Container esplora  Stopping                                             \u001B[34m0.7s \u001B[0m\n",
      "\u001B[?25h\u001B[1A\u001B[1A\u001B[0G\u001B[?25l[+] Stopping 0/1\n",
      " ⠧ Container esplora  Stopping                                             \u001B[34m0.8s \u001B[0m\n",
      "\u001B[?25h\u001B[1A\u001B[1A\u001B[0G\u001B[?25l[+] Stopping 0/1\n",
      " ⠇ Container esplora  Stopping                                             \u001B[34m0.9s \u001B[0m\n",
      "\u001B[?25h\u001B[1A\u001B[1A\u001B[0G\u001B[?25l[+] Stopping 0/1\n",
      " ⠏ Container esplora  Stopping                                             \u001B[34m1.0s \u001B[0m\n",
      "\u001B[?25h\u001B[1A\u001B[1A\u001B[0G\u001B[?25l\u001B[34m[+] Stopping 1/1\u001B[0m\n",
      " \u001B[32m✔\u001B[0m Container esplora     \u001B[32mStopped\u001B[0m                                           \u001B[34m1.0s \u001B[0m\n",
      " ⠋ Container chopsticks  Stopping                                          \u001B[34m0.0s \u001B[0m\n",
      "\u001B[?25h\u001B[1A\u001B[1A\u001B[1A\u001B[0G\u001B[?25l[+] Stopping 1/2\n",
      " \u001B[32m✔\u001B[0m Container esplora     \u001B[32mStopped\u001B[0m                                           \u001B[34m1.0s \u001B[0m\n",
      " ⠙ Container chopsticks  Stopping                                          \u001B[34m0.1s \u001B[0m\n",
      "\u001B[?25h\u001B[1A\u001B[1A\u001B[1A\u001B[0G\u001B[?25l[+] Stopping 1/2\n",
      " \u001B[32m✔\u001B[0m Container esplora     \u001B[32mStopped\u001B[0m                                           \u001B[34m1.0s \u001B[0m\n",
      " ⠹ Container chopsticks  Stopping                                          \u001B[34m0.2s \u001B[0m\n",
      "\u001B[?25h\u001B[1A\u001B[1A\u001B[1A\u001B[0G\u001B[?25l[+] Stopping 1/2\n",
      " \u001B[32m✔\u001B[0m Container esplora     \u001B[32mStopped\u001B[0m                                           \u001B[34m1.0s \u001B[0m\n",
      " ⠸ Container chopsticks  Stopping                                          \u001B[34m0.3s \u001B[0m\n",
      "\u001B[?25h\u001B[1A\u001B[1A\u001B[1A\u001B[0G\u001B[?25l[+] Stopping 1/2\n",
      " \u001B[32m✔\u001B[0m Container esplora     \u001B[32mStopped\u001B[0m                                           \u001B[34m1.0s \u001B[0m\n",
      " ⠼ Container chopsticks  Stopping                                          \u001B[34m0.4s \u001B[0m\n",
      "\u001B[?25h\u001B[1A\u001B[1A\u001B[1A\u001B[0G\u001B[?25l[+] Stopping 1/2\n",
      " \u001B[32m✔\u001B[0m Container esplora     \u001B[32mStopped\u001B[0m                                           \u001B[34m1.0s \u001B[0m\n",
      " ⠴ Container chopsticks  Stopping                                          \u001B[34m0.5s \u001B[0m\n",
      "\u001B[?25h\u001B[1A\u001B[1A\u001B[1A\u001B[0G\u001B[?25l\u001B[34m[+] Stopping 2/2\u001B[0m\n",
      " \u001B[32m✔\u001B[0m Container esplora     \u001B[32mStopped\u001B[0m                                           \u001B[34m1.0s \u001B[0m\n",
      " \u001B[32m✔\u001B[0m Container chopsticks  \u001B[32mStopped\u001B[0m                                           \u001B[34m0.6s \u001B[0m\n",
      " ⠋ Container electrs     Stopping                                          \u001B[34m0.0s \u001B[0m\n",
      "\u001B[?25h\u001B[1A\u001B[1A\u001B[1A\u001B[1A\u001B[0G\u001B[?25l[+] Stopping 2/3\n",
      " \u001B[32m✔\u001B[0m Container esplora     \u001B[32mStopped\u001B[0m                                           \u001B[34m1.0s \u001B[0m\n",
      " \u001B[32m✔\u001B[0m Container chopsticks  \u001B[32mStopped\u001B[0m                                           \u001B[34m0.6s \u001B[0m\n",
      " ⠙ Container electrs     Stopping                                          \u001B[34m0.1s \u001B[0m\n",
      "\u001B[?25h\u001B[1A\u001B[1A\u001B[1A\u001B[1A\u001B[0G\u001B[?25l[+] Stopping 2/3\n",
      " \u001B[32m✔\u001B[0m Container esplora     \u001B[32mStopped\u001B[0m                                           \u001B[34m1.0s \u001B[0m\n",
      " \u001B[32m✔\u001B[0m Container chopsticks  \u001B[32mStopped\u001B[0m                                           \u001B[34m0.6s \u001B[0m\n",
      " ⠹ Container electrs     Stopping                                          \u001B[34m0.2s \u001B[0m\n",
      "\u001B[?25h\u001B[1A\u001B[1A\u001B[1A\u001B[1A\u001B[0G\u001B[?25l[+] Stopping 2/3\n",
      " \u001B[32m✔\u001B[0m Container esplora     \u001B[32mStopped\u001B[0m                                           \u001B[34m1.0s \u001B[0m\n",
      " \u001B[32m✔\u001B[0m Container chopsticks  \u001B[32mStopped\u001B[0m                                           \u001B[34m0.6s \u001B[0m\n",
      " ⠸ Container electrs     Stopping                                          \u001B[34m0.3s \u001B[0m\n",
      "\u001B[?25h\u001B[1A\u001B[1A\u001B[1A\u001B[1A\u001B[0G\u001B[?25l[+] Stopping 2/3\n",
      " \u001B[32m✔\u001B[0m Container esplora     \u001B[32mStopped\u001B[0m                                           \u001B[34m1.0s \u001B[0m\n",
      " \u001B[32m✔\u001B[0m Container chopsticks  \u001B[32mStopped\u001B[0m                                           \u001B[34m0.6s \u001B[0m\n",
      " ⠼ Container electrs     Stopping                                          \u001B[34m0.4s \u001B[0m\n",
      "\u001B[?25h\u001B[1A\u001B[1A\u001B[1A\u001B[1A\u001B[0G\u001B[?25l[+] Stopping 2/3\n",
      " \u001B[32m✔\u001B[0m Container esplora     \u001B[32mStopped\u001B[0m                                           \u001B[34m1.0s \u001B[0m\n",
      " \u001B[32m✔\u001B[0m Container chopsticks  \u001B[32mStopped\u001B[0m                                           \u001B[34m0.6s \u001B[0m\n",
      " ⠴ Container electrs     Stopping                                          \u001B[34m0.5s \u001B[0m\n",
      "\u001B[?25h\u001B[1A\u001B[1A\u001B[1A\u001B[1A\u001B[0G\u001B[?25l[+] Stopping 2/3\n",
      " \u001B[32m✔\u001B[0m Container esplora     \u001B[32mStopped\u001B[0m                                           \u001B[34m1.0s \u001B[0m\n",
      " \u001B[32m✔\u001B[0m Container chopsticks  \u001B[32mStopped\u001B[0m                                           \u001B[34m0.6s \u001B[0m\n",
      " ⠦ Container electrs     Stopping                                          \u001B[34m0.6s \u001B[0m\n",
      "\u001B[?25h\u001B[1A\u001B[1A\u001B[1A\u001B[1A\u001B[0G\u001B[?25l[+] Stopping 2/3\n",
      " \u001B[32m✔\u001B[0m Container esplora     \u001B[32mStopped\u001B[0m                                           \u001B[34m1.0s \u001B[0m\n",
      " \u001B[32m✔\u001B[0m Container chopsticks  \u001B[32mStopped\u001B[0m                                           \u001B[34m0.6s \u001B[0m\n",
      " ⠧ Container electrs     Stopping                                          \u001B[34m0.7s \u001B[0m\n",
      "\u001B[?25h\u001B[1A\u001B[1A\u001B[1A\u001B[1A\u001B[0G\u001B[?25l\u001B[34m[+] Stopping 3/3\u001B[0m\n",
      " \u001B[32m✔\u001B[0m Container esplora     \u001B[32mStopped\u001B[0m                                           \u001B[34m1.0s \u001B[0m\n",
      " \u001B[32m✔\u001B[0m Container chopsticks  \u001B[32mStopped\u001B[0m                                           \u001B[34m0.6s \u001B[0m\n",
      " \u001B[32m✔\u001B[0m Container electrs     \u001B[32mStopped\u001B[0m                                           \u001B[34m0.8s \u001B[0m\n",
      " ⠋ Container bitcoin     Stopping                                          \u001B[34m0.0s \u001B[0m\n",
      "\u001B[?25h\u001B[1A\u001B[1A\u001B[1A\u001B[1A\u001B[1A\u001B[0G\u001B[?25l[+] Stopping 3/4\n",
      " \u001B[32m✔\u001B[0m Container esplora     \u001B[32mStopped\u001B[0m                                           \u001B[34m1.0s \u001B[0m\n",
      " \u001B[32m✔\u001B[0m Container chopsticks  \u001B[32mStopped\u001B[0m                                           \u001B[34m0.6s \u001B[0m\n",
      " \u001B[32m✔\u001B[0m Container electrs     \u001B[32mStopped\u001B[0m                                           \u001B[34m0.8s \u001B[0m\n",
      " ⠙ Container bitcoin     Stopping                                          \u001B[34m0.1s \u001B[0m\n",
      "\u001B[?25h\u001B[1A\u001B[1A\u001B[1A\u001B[1A\u001B[1A\u001B[0G\u001B[?25l[+] Stopping 3/4\n",
      " \u001B[32m✔\u001B[0m Container esplora     \u001B[32mStopped\u001B[0m                                           \u001B[34m1.0s \u001B[0m\n",
      " \u001B[32m✔\u001B[0m Container chopsticks  \u001B[32mStopped\u001B[0m                                           \u001B[34m0.6s \u001B[0m\n",
      " \u001B[32m✔\u001B[0m Container electrs     \u001B[32mStopped\u001B[0m                                           \u001B[34m0.8s \u001B[0m\n",
      " ⠹ Container bitcoin     Stopping                                          \u001B[34m0.2s \u001B[0m\n",
      "\u001B[?25h\u001B[1A\u001B[1A\u001B[1A\u001B[1A\u001B[1A\u001B[0G\u001B[?25l[+] Stopping 3/4\n",
      " \u001B[32m✔\u001B[0m Container esplora     \u001B[32mStopped\u001B[0m                                           \u001B[34m1.0s \u001B[0m\n",
      " \u001B[32m✔\u001B[0m Container chopsticks  \u001B[32mStopped\u001B[0m                                           \u001B[34m0.6s \u001B[0m\n",
      " \u001B[32m✔\u001B[0m Container electrs     \u001B[32mStopped\u001B[0m                                           \u001B[34m0.8s \u001B[0m\n",
      " ⠸ Container bitcoin     Stopping                                          \u001B[34m0.3s \u001B[0m\n",
      "\u001B[?25h\u001B[1A\u001B[1A\u001B[1A\u001B[1A\u001B[1A\u001B[0G\u001B[?25l[+] Stopping 3/4\n",
      " \u001B[32m✔\u001B[0m Container esplora     \u001B[32mStopped\u001B[0m                                           \u001B[34m1.0s \u001B[0m\n",
      " \u001B[32m✔\u001B[0m Container chopsticks  \u001B[32mStopped\u001B[0m                                           \u001B[34m0.6s \u001B[0m\n",
      " \u001B[32m✔\u001B[0m Container electrs     \u001B[32mStopped\u001B[0m                                           \u001B[34m0.8s \u001B[0m\n",
      " ⠼ Container bitcoin     Stopping                                          \u001B[34m0.4s \u001B[0m\n",
      "\u001B[?25h\u001B[1A\u001B[1A\u001B[1A\u001B[1A\u001B[1A\u001B[0G\u001B[?25l[+] Stopping 3/4\n",
      " \u001B[32m✔\u001B[0m Container esplora     \u001B[32mStopped\u001B[0m                                           \u001B[34m1.0s \u001B[0m\n",
      " \u001B[32m✔\u001B[0m Container chopsticks  \u001B[32mStopped\u001B[0m                                           \u001B[34m0.6s \u001B[0m\n",
      " \u001B[32m✔\u001B[0m Container electrs     \u001B[32mStopped\u001B[0m                                           \u001B[34m0.8s \u001B[0m\n",
      " ⠴ Container bitcoin     Stopping                                          \u001B[34m0.5s \u001B[0m\n",
      "\u001B[?25h\u001B[1A\u001B[1A\u001B[1A\u001B[1A\u001B[1A\u001B[0G\u001B[?25l[+] Stopping 3/4\n",
      " \u001B[32m✔\u001B[0m Container esplora     \u001B[32mStopped\u001B[0m                                           \u001B[34m1.0s \u001B[0m\n",
      " \u001B[32m✔\u001B[0m Container chopsticks  \u001B[32mStopped\u001B[0m                                           \u001B[34m0.6s \u001B[0m\n",
      " \u001B[32m✔\u001B[0m Container electrs     \u001B[32mStopped\u001B[0m                                           \u001B[34m0.8s \u001B[0m\n",
      " ⠦ Container bitcoin     Stopping                                          \u001B[34m0.6s \u001B[0m\n",
      "\u001B[?25h\u001B[1A\u001B[1A\u001B[1A\u001B[1A\u001B[1A\u001B[0G\u001B[?25l[+] Stopping 3/4\n",
      " \u001B[32m✔\u001B[0m Container esplora     \u001B[32mStopped\u001B[0m                                           \u001B[34m1.0s \u001B[0m\n",
      " \u001B[32m✔\u001B[0m Container chopsticks  \u001B[32mStopped\u001B[0m                                           \u001B[34m0.6s \u001B[0m\n",
      " \u001B[32m✔\u001B[0m Container electrs     \u001B[32mStopped\u001B[0m                                           \u001B[34m0.8s \u001B[0m\n",
      " ⠧ Container bitcoin     Stopping                                          \u001B[34m0.7s \u001B[0m\n",
      "\u001B[?25h\u001B[1A\u001B[1A\u001B[1A\u001B[1A\u001B[1A\u001B[0G\u001B[?25l[+] Stopping 3/4\n",
      " \u001B[32m✔\u001B[0m Container esplora     \u001B[32mStopped\u001B[0m                                           \u001B[34m1.0s \u001B[0m\n",
      " \u001B[32m✔\u001B[0m Container chopsticks  \u001B[32mStopped\u001B[0m                                           \u001B[34m0.6s \u001B[0m\n",
      " \u001B[32m✔\u001B[0m Container electrs     \u001B[32mStopped\u001B[0m                                           \u001B[34m0.8s \u001B[0m\n",
      " ⠇ Container bitcoin     Stopping                                          \u001B[34m0.8s \u001B[0m\n",
      "\u001B[?25h\u001B[1A\u001B[1A\u001B[1A\u001B[1A\u001B[1A\u001B[0G\u001B[?25l[+] Stopping 3/4\n",
      " \u001B[32m✔\u001B[0m Container esplora     \u001B[32mStopped\u001B[0m                                           \u001B[34m1.0s \u001B[0m\n",
      " \u001B[32m✔\u001B[0m Container chopsticks  \u001B[32mStopped\u001B[0m                                           \u001B[34m0.6s \u001B[0m\n",
      " \u001B[32m✔\u001B[0m Container electrs     \u001B[32mStopped\u001B[0m                                           \u001B[34m0.8s \u001B[0m\n",
      " ⠏ Container bitcoin     Stopping                                          \u001B[34m0.9s \u001B[0m\n",
      "\u001B[?25h\u001B[1A\u001B[1A\u001B[1A\u001B[1A\u001B[1A\u001B[0G\u001B[?25l[+] Stopping 3/4\n",
      " \u001B[32m✔\u001B[0m Container esplora     \u001B[32mStopped\u001B[0m                                           \u001B[34m1.0s \u001B[0m\n",
      " \u001B[32m✔\u001B[0m Container chopsticks  \u001B[32mStopped\u001B[0m                                           \u001B[34m0.6s \u001B[0m\n",
      " \u001B[32m✔\u001B[0m Container electrs     \u001B[32mStopped\u001B[0m                                           \u001B[34m0.8s \u001B[0m\n",
      " ⠋ Container bitcoin     Stopping                                          \u001B[34m1.0s \u001B[0m\n",
      "\u001B[?25h\u001B[1A\u001B[1A\u001B[1A\u001B[1A\u001B[1A\u001B[0G\u001B[?25l[+] Stopping 3/4\n",
      " \u001B[32m✔\u001B[0m Container esplora     \u001B[32mStopped\u001B[0m                                           \u001B[34m1.0s \u001B[0m\n",
      " \u001B[32m✔\u001B[0m Container chopsticks  \u001B[32mStopped\u001B[0m                                           \u001B[34m0.6s \u001B[0m\n",
      " \u001B[32m✔\u001B[0m Container electrs     \u001B[32mStopped\u001B[0m                                           \u001B[34m0.8s \u001B[0m\n",
      " ⠙ Container bitcoin     Stopping                                          \u001B[34m1.1s \u001B[0m\n",
      "\u001B[?25h\u001B[1A\u001B[1A\u001B[1A\u001B[1A\u001B[1A\u001B[0G\u001B[?25l[+] Stopping 3/4\n",
      " \u001B[32m✔\u001B[0m Container esplora     \u001B[32mStopped\u001B[0m                                           \u001B[34m1.0s \u001B[0m\n",
      " \u001B[32m✔\u001B[0m Container chopsticks  \u001B[32mStopped\u001B[0m                                           \u001B[34m0.6s \u001B[0m\n",
      " \u001B[32m✔\u001B[0m Container electrs     \u001B[32mStopped\u001B[0m                                           \u001B[34m0.8s \u001B[0m\n",
      " ⠹ Container bitcoin     Stopping                                          \u001B[34m1.2s \u001B[0m\n",
      "\u001B[?25h\u001B[1A\u001B[1A\u001B[1A\u001B[1A\u001B[1A\u001B[0G\u001B[?25l\u001B[34m[+] Stopping 4/4\u001B[0m\n",
      " \u001B[32m✔\u001B[0m Container esplora     \u001B[32mStopped\u001B[0m                                           \u001B[34m1.0s \u001B[0m\n",
      " \u001B[32m✔\u001B[0m Container chopsticks  \u001B[32mStopped\u001B[0m                                           \u001B[34m0.6s \u001B[0m\n",
      " \u001B[32m✔\u001B[0m Container electrs     \u001B[32mStopped\u001B[0m                                           \u001B[34m0.8s \u001B[0m\n",
      " \u001B[32m✔\u001B[0m Container bitcoin     \u001B[32mStopped\u001B[0m                                           \u001B[34m1.3s \u001B[0m\n",
      "\u001B[?25h"
     ]
    }
   ],
   "source": [
    "%alias nigiri-stop nigiri --datadir ./nigiri-datadir stop \n",
    "%nigiri-stop"
   ]
  },
  {
   "cell_type": "code",
   "execution_count": null,
   "id": "88dbc0bb-36f6-4edd-abf0-8b429f02e56c",
   "metadata": {},
   "outputs": [],
   "source": []
  }
 ],
 "metadata": {
  "kernelspec": {
   "display_name": "Python 3 (ipykernel)",
   "language": "python",
   "name": "python3"
  },
  "language_info": {
   "codemirror_mode": {
    "name": "ipython",
    "version": 3
   },
   "file_extension": ".py",
   "mimetype": "text/x-python",
   "name": "python",
   "nbconvert_exporter": "python",
   "pygments_lexer": "ipython3",
   "version": "3.10.12"
  }
 },
 "nbformat": 4,
 "nbformat_minor": 5
}
